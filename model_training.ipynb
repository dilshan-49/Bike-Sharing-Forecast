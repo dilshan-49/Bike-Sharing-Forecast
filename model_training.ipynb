{
 "cells": [
  {
   "cell_type": "markdown",
   "id": "6c9464b4",
   "metadata": {},
   "source": [
    "We will first load the data and scale it"
   ]
  },
  {
   "cell_type": "code",
   "execution_count": 1,
   "id": "9c12e314",
   "metadata": {},
   "outputs": [],
   "source": [
    "import pandas as pd\n",
    "from sklearn.preprocessing import MinMaxScaler\n",
    "\n",
    "df_train = pd.read_csv('./dataset/train.csv')\n",
    "df_val = pd.read_csv('./dataset/val.csv')\n",
    "df_test = pd.read_csv('./dataset/test.csv')\n",
    "\n",
    "scaler_r = MinMaxScaler()\n",
    "scaler_c = MinMaxScaler()\n",
    "\n",
    "scaler_r.fit(df_test[['registered']])\n",
    "scaler_c.fit(df_test[['casual']])\n",
    "\n",
    "\n",
    "df_train['registered_s'] = scaler_r.transform(df_train[['registered']])\n",
    "df_val['registered_s'] = scaler_r.transform(df_val[['registered']])\n",
    "\n",
    "df_train['casual_s'] = scaler_c.transform(df_train[['casual']])\n",
    "df_val['casual_s'] = scaler_c.transform(df_val[['casual']])"
   ]
  },
  {
   "cell_type": "code",
   "execution_count": 2,
   "id": "d1b60d15",
   "metadata": {},
   "outputs": [
    {
     "data": {
      "text/html": [
       "<div>\n",
       "<style scoped>\n",
       "    .dataframe tbody tr th:only-of-type {\n",
       "        vertical-align: middle;\n",
       "    }\n",
       "\n",
       "    .dataframe tbody tr th {\n",
       "        vertical-align: top;\n",
       "    }\n",
       "\n",
       "    .dataframe thead th {\n",
       "        text-align: right;\n",
       "    }\n",
       "</style>\n",
       "<table border=\"1\" class=\"dataframe\">\n",
       "  <thead>\n",
       "    <tr style=\"text-align: right;\">\n",
       "      <th></th>\n",
       "      <th>Unnamed: 0</th>\n",
       "      <th>season</th>\n",
       "      <th>workingday</th>\n",
       "      <th>weathersit</th>\n",
       "      <th>temp</th>\n",
       "      <th>hum</th>\n",
       "      <th>casual</th>\n",
       "      <th>registered</th>\n",
       "      <th>day_sin</th>\n",
       "      <th>day_cos</th>\n",
       "      <th>week_sin</th>\n",
       "      <th>week_cos</th>\n",
       "      <th>registered_s</th>\n",
       "      <th>casual_s</th>\n",
       "    </tr>\n",
       "  </thead>\n",
       "  <tbody>\n",
       "    <tr>\n",
       "      <th>0</th>\n",
       "      <td>0</td>\n",
       "      <td>1</td>\n",
       "      <td>0</td>\n",
       "      <td>1</td>\n",
       "      <td>0.24</td>\n",
       "      <td>0.81</td>\n",
       "      <td>3</td>\n",
       "      <td>13</td>\n",
       "      <td>0.000000</td>\n",
       "      <td>1.000000</td>\n",
       "      <td>-0.781831</td>\n",
       "      <td>0.62349</td>\n",
       "      <td>0.014840</td>\n",
       "      <td>0.008646</td>\n",
       "    </tr>\n",
       "    <tr>\n",
       "      <th>1</th>\n",
       "      <td>1</td>\n",
       "      <td>1</td>\n",
       "      <td>0</td>\n",
       "      <td>1</td>\n",
       "      <td>0.22</td>\n",
       "      <td>0.80</td>\n",
       "      <td>8</td>\n",
       "      <td>32</td>\n",
       "      <td>0.258819</td>\n",
       "      <td>0.965926</td>\n",
       "      <td>-0.781831</td>\n",
       "      <td>0.62349</td>\n",
       "      <td>0.036530</td>\n",
       "      <td>0.023055</td>\n",
       "    </tr>\n",
       "    <tr>\n",
       "      <th>2</th>\n",
       "      <td>2</td>\n",
       "      <td>1</td>\n",
       "      <td>0</td>\n",
       "      <td>1</td>\n",
       "      <td>0.22</td>\n",
       "      <td>0.80</td>\n",
       "      <td>5</td>\n",
       "      <td>27</td>\n",
       "      <td>0.500000</td>\n",
       "      <td>0.866025</td>\n",
       "      <td>-0.781831</td>\n",
       "      <td>0.62349</td>\n",
       "      <td>0.030822</td>\n",
       "      <td>0.014409</td>\n",
       "    </tr>\n",
       "    <tr>\n",
       "      <th>3</th>\n",
       "      <td>3</td>\n",
       "      <td>1</td>\n",
       "      <td>0</td>\n",
       "      <td>1</td>\n",
       "      <td>0.24</td>\n",
       "      <td>0.75</td>\n",
       "      <td>3</td>\n",
       "      <td>10</td>\n",
       "      <td>0.707107</td>\n",
       "      <td>0.707107</td>\n",
       "      <td>-0.781831</td>\n",
       "      <td>0.62349</td>\n",
       "      <td>0.011416</td>\n",
       "      <td>0.008646</td>\n",
       "    </tr>\n",
       "    <tr>\n",
       "      <th>4</th>\n",
       "      <td>4</td>\n",
       "      <td>1</td>\n",
       "      <td>0</td>\n",
       "      <td>1</td>\n",
       "      <td>0.24</td>\n",
       "      <td>0.75</td>\n",
       "      <td>0</td>\n",
       "      <td>1</td>\n",
       "      <td>0.866025</td>\n",
       "      <td>0.500000</td>\n",
       "      <td>-0.781831</td>\n",
       "      <td>0.62349</td>\n",
       "      <td>0.001142</td>\n",
       "      <td>0.000000</td>\n",
       "    </tr>\n",
       "  </tbody>\n",
       "</table>\n",
       "</div>"
      ],
      "text/plain": [
       "   Unnamed: 0  season  workingday  weathersit  temp   hum  casual  registered  \\\n",
       "0           0       1           0           1  0.24  0.81       3          13   \n",
       "1           1       1           0           1  0.22  0.80       8          32   \n",
       "2           2       1           0           1  0.22  0.80       5          27   \n",
       "3           3       1           0           1  0.24  0.75       3          10   \n",
       "4           4       1           0           1  0.24  0.75       0           1   \n",
       "\n",
       "    day_sin   day_cos  week_sin  week_cos  registered_s  casual_s  \n",
       "0  0.000000  1.000000 -0.781831   0.62349      0.014840  0.008646  \n",
       "1  0.258819  0.965926 -0.781831   0.62349      0.036530  0.023055  \n",
       "2  0.500000  0.866025 -0.781831   0.62349      0.030822  0.014409  \n",
       "3  0.707107  0.707107 -0.781831   0.62349      0.011416  0.008646  \n",
       "4  0.866025  0.500000 -0.781831   0.62349      0.001142  0.000000  "
      ]
     },
     "execution_count": 2,
     "metadata": {},
     "output_type": "execute_result"
    }
   ],
   "source": [
    "df_train.head()"
   ]
  },
  {
   "cell_type": "code",
   "execution_count": 3,
   "id": "65965dc1",
   "metadata": {},
   "outputs": [
    {
     "data": {
      "text/html": [
       "<div>\n",
       "<style scoped>\n",
       "    .dataframe tbody tr th:only-of-type {\n",
       "        vertical-align: middle;\n",
       "    }\n",
       "\n",
       "    .dataframe tbody tr th {\n",
       "        vertical-align: top;\n",
       "    }\n",
       "\n",
       "    .dataframe thead th {\n",
       "        text-align: right;\n",
       "    }\n",
       "</style>\n",
       "<table border=\"1\" class=\"dataframe\">\n",
       "  <thead>\n",
       "    <tr style=\"text-align: right;\">\n",
       "      <th></th>\n",
       "      <th>season</th>\n",
       "      <th>workingday</th>\n",
       "      <th>weathersit</th>\n",
       "      <th>temp</th>\n",
       "      <th>hum</th>\n",
       "      <th>day_sin</th>\n",
       "      <th>day_cos</th>\n",
       "      <th>week_sin</th>\n",
       "      <th>week_cos</th>\n",
       "      <th>registered_s</th>\n",
       "      <th>casual_s</th>\n",
       "    </tr>\n",
       "  </thead>\n",
       "  <tbody>\n",
       "    <tr>\n",
       "      <th>0</th>\n",
       "      <td>1</td>\n",
       "      <td>0</td>\n",
       "      <td>1</td>\n",
       "      <td>0.24</td>\n",
       "      <td>0.81</td>\n",
       "      <td>0.000000</td>\n",
       "      <td>1.000000</td>\n",
       "      <td>-0.781831</td>\n",
       "      <td>0.62349</td>\n",
       "      <td>0.014840</td>\n",
       "      <td>0.008646</td>\n",
       "    </tr>\n",
       "    <tr>\n",
       "      <th>1</th>\n",
       "      <td>1</td>\n",
       "      <td>0</td>\n",
       "      <td>1</td>\n",
       "      <td>0.22</td>\n",
       "      <td>0.80</td>\n",
       "      <td>0.258819</td>\n",
       "      <td>0.965926</td>\n",
       "      <td>-0.781831</td>\n",
       "      <td>0.62349</td>\n",
       "      <td>0.036530</td>\n",
       "      <td>0.023055</td>\n",
       "    </tr>\n",
       "    <tr>\n",
       "      <th>2</th>\n",
       "      <td>1</td>\n",
       "      <td>0</td>\n",
       "      <td>1</td>\n",
       "      <td>0.22</td>\n",
       "      <td>0.80</td>\n",
       "      <td>0.500000</td>\n",
       "      <td>0.866025</td>\n",
       "      <td>-0.781831</td>\n",
       "      <td>0.62349</td>\n",
       "      <td>0.030822</td>\n",
       "      <td>0.014409</td>\n",
       "    </tr>\n",
       "    <tr>\n",
       "      <th>3</th>\n",
       "      <td>1</td>\n",
       "      <td>0</td>\n",
       "      <td>1</td>\n",
       "      <td>0.24</td>\n",
       "      <td>0.75</td>\n",
       "      <td>0.707107</td>\n",
       "      <td>0.707107</td>\n",
       "      <td>-0.781831</td>\n",
       "      <td>0.62349</td>\n",
       "      <td>0.011416</td>\n",
       "      <td>0.008646</td>\n",
       "    </tr>\n",
       "    <tr>\n",
       "      <th>4</th>\n",
       "      <td>1</td>\n",
       "      <td>0</td>\n",
       "      <td>1</td>\n",
       "      <td>0.24</td>\n",
       "      <td>0.75</td>\n",
       "      <td>0.866025</td>\n",
       "      <td>0.500000</td>\n",
       "      <td>-0.781831</td>\n",
       "      <td>0.62349</td>\n",
       "      <td>0.001142</td>\n",
       "      <td>0.000000</td>\n",
       "    </tr>\n",
       "  </tbody>\n",
       "</table>\n",
       "</div>"
      ],
      "text/plain": [
       "   season  workingday  weathersit  temp   hum   day_sin   day_cos  week_sin  \\\n",
       "0       1           0           1  0.24  0.81  0.000000  1.000000 -0.781831   \n",
       "1       1           0           1  0.22  0.80  0.258819  0.965926 -0.781831   \n",
       "2       1           0           1  0.22  0.80  0.500000  0.866025 -0.781831   \n",
       "3       1           0           1  0.24  0.75  0.707107  0.707107 -0.781831   \n",
       "4       1           0           1  0.24  0.75  0.866025  0.500000 -0.781831   \n",
       "\n",
       "   week_cos  registered_s  casual_s  \n",
       "0   0.62349      0.014840  0.008646  \n",
       "1   0.62349      0.036530  0.023055  \n",
       "2   0.62349      0.030822  0.014409  \n",
       "3   0.62349      0.011416  0.008646  \n",
       "4   0.62349      0.001142  0.000000  "
      ]
     },
     "execution_count": 3,
     "metadata": {},
     "output_type": "execute_result"
    }
   ],
   "source": [
    "df_train.drop(['Unnamed: 0','casual','registered'],axis=1,inplace=True)\n",
    "df_val.drop(['Unnamed: 0','casual','registered'],axis=1,inplace=True)\n",
    "\n",
    "df_train.head()"
   ]
  },
  {
   "cell_type": "markdown",
   "id": "c9af636c",
   "metadata": {},
   "source": [
    "Now Lets create the dataset from the tabular data to work with our model"
   ]
  },
  {
   "cell_type": "code",
   "execution_count": 4,
   "id": "4e15df62",
   "metadata": {},
   "outputs": [],
   "source": [
    "import numpy as np\n",
    "\n",
    "\n",
    "def create_dataset(data, feature_columns, target_columns, lookback_window, horizon, shift):\n",
    "    \"\"\"\n",
    "    Transforms a time series DataFrame into input-target pairs for a deep learning model.\n",
    "\n",
    "    Args:\n",
    "        data (pd.DataFrame): The input DataFrame.\n",
    "        feature_columns (list): List of column names to use as input features (X).\n",
    "        target_columns (list): List of column names to use as target variables (Y).\n",
    "        lookback_window (int): The number of past time steps to use as input (X).\n",
    "        horizon (int): The number of future time steps to predict (Y).\n",
    "        shift (int): The number of steps to shift the window for each new sample.\n",
    "\n",
    "    Returns:\n",
    "        tuple: A tuple containing two NumPy arrays, X (inputs) and Y (targets).\n",
    "    \"\"\"\n",
    "    X, Y = [], []\n",
    "    for i in range(0, len(data) - lookback_window - horizon + 1, shift):\n",
    "        # Extract the input features (X) for the current window\n",
    "        x_start = i\n",
    "        x_end = i + lookback_window\n",
    "        X.append(data.iloc[x_start:x_end][feature_columns].values)\n",
    "\n",
    "        # Extract the target variables (Y) for the forecast horizon\n",
    "        y_start = i + lookback_window\n",
    "        y_end = y_start + horizon\n",
    "        Y.append(data.iloc[y_start:y_end][target_columns].values)\n",
    "    \n",
    "    return np.array(X), np.array(Y)\n"
   ]
  },
  {
   "cell_type": "code",
   "execution_count": 5,
   "id": "d1e5b768",
   "metadata": {},
   "outputs": [],
   "source": [
    "import yaml\n",
    "\n",
    "def load_config(filepath):\n",
    "    \"\"\"\n",
    "    Loads a YAML configuration file from the specified filepath.\n",
    "\n",
    "    Args:\n",
    "        filepath (str): The path to the YAML file.\n",
    "\n",
    "    Returns:\n",
    "        dict: The configuration as a dictionary.\n",
    "    \"\"\"\n",
    "    try:\n",
    "        with open(filepath, 'r') as file:\n",
    "            config = yaml.safe_load(file)\n",
    "        return config\n",
    "    except FileNotFoundError:\n",
    "        print(f\"Error: The file at {filepath} was not found.\")\n",
    "        return None\n",
    "    except yaml.YAMLError as exc:\n",
    "        print(f\"Error parsing YAML file: {exc}\")\n",
    "        return None\n",
    "\n",
    "# Load the configuration from the YAML file\n",
    "config_file = 'config.yaml'\n",
    "model_config = load_config(config_file)"
   ]
  },
  {
   "cell_type": "code",
   "execution_count": 6,
   "id": "332e9f01",
   "metadata": {},
   "outputs": [],
   "source": [
    "#  Define key parameters\n",
    "LOOKBACK_WINDOW = model_config['dataset']['lookback_window']  \n",
    "FORECAST_HORIZON = model_config['dataset']['forecast_horizon'] \n",
    "SHIFT = model_config['dataset']['shift']          \n",
    "# ----------------------------------------------------\n",
    "# The columns model use to learn the patterns.\n",
    "\n",
    "feature_columns = model_config['data']['feature_columns']\n",
    "\n",
    "# The columns model will try to predict.\n",
    "target_columns = model_config['data']['target_columns']\n",
    "\n"
   ]
  },
  {
   "cell_type": "markdown",
   "id": "70a75c73",
   "metadata": {},
   "source": [
    "Lets' first create the training dataset and have a look at it"
   ]
  },
  {
   "cell_type": "code",
   "execution_count": 7,
   "id": "b0c6e3a6",
   "metadata": {},
   "outputs": [
    {
     "name": "stdout",
     "output_type": "stream",
     "text": [
      "Shape of Input (X): (13879, 24, 7)\n",
      "Shape of Target (Y): (13879, 1, 2)\n"
     ]
    }
   ],
   "source": [
    "X_train, Y_train = create_dataset(df_train, feature_columns, target_columns, LOOKBACK_WINDOW, FORECAST_HORIZON, SHIFT)\n",
    "X_val, Y_val = create_dataset(df_val, feature_columns, target_columns, LOOKBACK_WINDOW, FORECAST_HORIZON, SHIFT)\n",
    "\n",
    "\n",
    "print(f\"Shape of Input (X): {X_train.shape}\")       # shape will be in the following order\n",
    "print(f\"Shape of Target (Y): {Y_train.shape}\")      # [Number of Samples, Window, Number of Features]\n"
   ]
  },
  {
   "cell_type": "markdown",
   "id": "c020201f",
   "metadata": {},
   "source": [
    "Now Let's create dataloader which will serve the above created data to our models for training and testing."
   ]
  },
  {
   "cell_type": "code",
   "execution_count": 8,
   "id": "28e8aa44",
   "metadata": {},
   "outputs": [],
   "source": [
    "import torch\n",
    "from torch.utils.data import DataLoader, TensorDataset\n",
    "\n",
    "\n",
    "# Convert NumPy arrays to PyTorch Tensors\n",
    "X_train = torch.Tensor(X_train)\n",
    "y_train = torch.Tensor(Y_train)\n",
    "X_val = torch.Tensor(X_val)\n",
    "y_val = torch.Tensor(Y_val)\n",
    "\n",
    "# Create TensorDatasets and DataLoaders\n",
    "train_dataset = TensorDataset(X_train, y_train)\n",
    "val_dataset = TensorDataset(X_val, y_val)\n",
    "\n",
    "train_loader = DataLoader(train_dataset, batch_size=64, shuffle=False)\n",
    "val_loader = DataLoader(val_dataset, batch_size=64, shuffle=False)\n"
   ]
  },
  {
   "cell_type": "markdown",
   "id": "d32e1604",
   "metadata": {},
   "source": [
    "Now let's Design our model.  \n",
    "We will create two models. one solely based on LSTM architecture and another one combining CNN with LSTM.\n",
    "Design is done in the model.py script so that it can be used across the notebooks\n"
   ]
  },
  {
   "cell_type": "code",
   "execution_count": 9,
   "id": "33a3dd4f",
   "metadata": {},
   "outputs": [],
   "source": [
    "from model import LSTMForecaster,CNN_LSTMForecaster"
   ]
  },
  {
   "cell_type": "markdown",
   "id": "63d1a35b",
   "metadata": {},
   "source": [
    "Let's initialize the both models."
   ]
  },
  {
   "cell_type": "code",
   "execution_count": 10,
   "id": "883c3adc",
   "metadata": {},
   "outputs": [],
   "source": [
    "import torch\n",
    "import torch.nn as nn\n",
    "\n",
    "BATCH_SIZE = model_config['model']['batch_size']\n",
    "LOOKBACK_WINDOW = model_config['dataset']['lookback_window']  \n",
    "NUM_FEATURES = model_config['model']['num_features']\n",
    "FORECAST_HORIZON = model_config['dataset']['forecast_horizon'] \n",
    "NUM_TARGETS = model_config['model']['num_targets']\n",
    "\n",
    "\n",
    "device = 'cuda' if torch.cuda.is_available() else 'cpu'\n",
    "\n",
    "lstm_model = LSTMForecaster(\n",
    "        num_features=NUM_FEATURES,\n",
    "        hidden_size=64,\n",
    "        num_layers=1,\n",
    "        output_size=FORECAST_HORIZON * NUM_TARGETS\n",
    "    )\n",
    "\n",
    "cnn_lstm_model = CNN_LSTMForecaster(\n",
    "        num_features=NUM_FEATURES,\n",
    "        hidden_size=64,\n",
    "        num_layers=1,\n",
    "        output_size=FORECAST_HORIZON * NUM_TARGETS\n",
    "    )"
   ]
  },
  {
   "cell_type": "code",
   "execution_count": 11,
   "id": "c9926cf7",
   "metadata": {},
   "outputs": [],
   "source": [
    "from tqdm import tqdm\n",
    "\n",
    "def train_model(model, optimizer, loss_fn, train_loader, val_loader, epochs=20, device='cpu', name=''):\n",
    "    \"\"\"\n",
    "    Trains and validates a time series forecasting model.\n",
    "\n",
    "    Args:\n",
    "        model (nn.Module): The forecasting model to train.\n",
    "        optimizer (torch.optim.Optimizer): The optimizer to use for training.\n",
    "        loss_fn (nn.Module): The loss function (e.g., MSELoss).\n",
    "        train_loader (DataLoader): DataLoader for the training data.\n",
    "        val_loader (DataLoader): DataLoader for the validation data.\n",
    "        epochs (int): The number of training epochs.\n",
    "        device (str): The device to run the training on ('cpu' or 'cuda').\n",
    "    \"\"\"\n",
    "    best_val_loss = float('inf')\n",
    "    best_model_state = None\n",
    "\n",
    "    model.to(device)\n",
    "\n",
    "    for epoch in range(epochs):\n",
    "        # --- Training Loop ---\n",
    "        model.train()\n",
    "        train_loss = 0.0\n",
    "        \n",
    "        for batch in tqdm(train_loader, desc=f\"Epoch {epoch+1}/{epochs} Training\"):\n",
    "            optimizer.zero_grad() # Reset gradients\n",
    "            \n",
    "            inputs,targets = batch\n",
    "            inputs=inputs.to(device)\n",
    "            targets=targets.to(device)\n",
    "\n",
    "            output = model(inputs)\n",
    "            \n",
    "            loss = loss_fn(output, targets)\n",
    "            loss.backward()\n",
    "            optimizer.step()\n",
    "            \n",
    "            train_loss += loss.item() * targets.size(0)\n",
    "        \n",
    "        avg_train_loss = train_loss / len(train_loader.dataset)\n",
    "\n",
    "        # --- Validation Loop ---\n",
    "        model.eval()\n",
    "        val_loss = 0.0\n",
    "        \n",
    "        with torch.no_grad():\n",
    "            for batch in tqdm(val_loader, desc=f\"Epoch {epoch+1}/{epochs} Validating\"):\n",
    "                optimizer.zero_grad() # Reset gradients\n",
    "                \n",
    "                inputs,targets = batch\n",
    "                inputs=inputs.to(device)\n",
    "                targets=targets.to(device)\n",
    "\n",
    "                output = model(inputs)\n",
    "                \n",
    "                loss = loss_fn(output, targets)\n",
    "                \n",
    "                val_loss += loss.item() * targets.size(0)\n",
    "\n",
    "        # Calculate average validation loss for the epoch\n",
    "        avg_val_loss = val_loss / len(val_loader.dataset)\n",
    "        \n",
    "        print(f\"Epoch {epoch+1}/{epochs}: Train Loss: {avg_train_loss:.4f}, Val Loss: {avg_val_loss:.4f}\")\n",
    "\n",
    "        # Check if current validation loss is the best so far\n",
    "        if avg_val_loss < best_val_loss:\n",
    "            best_val_loss = avg_val_loss\n",
    "            # Save the model state dictionary\n",
    "            best_model_state = model.state_dict()\n",
    "            print(\"Validation loss improved. Saving best model state.\")\n",
    "    \n",
    "    if best_model_state:\n",
    "        torch.save(best_model_state, './models/'+name+'_best.pth') # Save the best model\n",
    "        print(\"Training complete. models saved to models/\")\n",
    "    else:\n",
    "        print(\"Training complete. Could not save best model state.\")\n",
    "    "
   ]
  },
  {
   "cell_type": "code",
   "execution_count": 12,
   "id": "42af329d",
   "metadata": {},
   "outputs": [
    {
     "name": "stdout",
     "output_type": "stream",
     "text": [
      "\n",
      "Starting model training...\n"
     ]
    },
    {
     "name": "stderr",
     "output_type": "stream",
     "text": [
      "Epoch 1/40 Training: 100%|██████████| 217/217 [00:00<00:00, 234.63it/s]\n",
      "Epoch 1/40 Validating: 100%|██████████| 27/27 [00:00<00:00, 298.59it/s]\n"
     ]
    },
    {
     "name": "stdout",
     "output_type": "stream",
     "text": [
      "Epoch 1/40: Train Loss: 0.0540, Val Loss: 0.0751\n",
      "Validation loss improved. Saving best model state.\n"
     ]
    },
    {
     "name": "stderr",
     "output_type": "stream",
     "text": [
      "Epoch 2/40 Training: 100%|██████████| 217/217 [00:00<00:00, 247.55it/s]\n",
      "Epoch 2/40 Validating: 100%|██████████| 27/27 [00:00<00:00, 637.49it/s]\n"
     ]
    },
    {
     "name": "stdout",
     "output_type": "stream",
     "text": [
      "Epoch 2/40: Train Loss: 0.0475, Val Loss: 0.0634\n",
      "Validation loss improved. Saving best model state.\n"
     ]
    },
    {
     "name": "stderr",
     "output_type": "stream",
     "text": [
      "Epoch 3/40 Training: 100%|██████████| 217/217 [00:00<00:00, 246.75it/s]\n",
      "Epoch 3/40 Validating: 100%|██████████| 27/27 [00:00<00:00, 713.26it/s]\n"
     ]
    },
    {
     "name": "stdout",
     "output_type": "stream",
     "text": [
      "Epoch 3/40: Train Loss: 0.0424, Val Loss: 0.0566\n",
      "Validation loss improved. Saving best model state.\n"
     ]
    },
    {
     "name": "stderr",
     "output_type": "stream",
     "text": [
      "Epoch 4/40 Training: 100%|██████████| 217/217 [00:00<00:00, 262.73it/s]\n",
      "Epoch 4/40 Validating: 100%|██████████| 27/27 [00:00<00:00, 673.53it/s]\n"
     ]
    },
    {
     "name": "stdout",
     "output_type": "stream",
     "text": [
      "Epoch 4/40: Train Loss: 0.0379, Val Loss: 0.0502\n",
      "Validation loss improved. Saving best model state.\n"
     ]
    },
    {
     "name": "stderr",
     "output_type": "stream",
     "text": [
      "Epoch 5/40 Training: 100%|██████████| 217/217 [00:00<00:00, 261.32it/s]\n",
      "Epoch 5/40 Validating: 100%|██████████| 27/27 [00:00<00:00, 602.74it/s]\n"
     ]
    },
    {
     "name": "stdout",
     "output_type": "stream",
     "text": [
      "Epoch 5/40: Train Loss: 0.0347, Val Loss: 0.0459\n",
      "Validation loss improved. Saving best model state.\n"
     ]
    },
    {
     "name": "stderr",
     "output_type": "stream",
     "text": [
      "Epoch 6/40 Training: 100%|██████████| 217/217 [00:00<00:00, 264.02it/s]\n",
      "Epoch 6/40 Validating: 100%|██████████| 27/27 [00:00<00:00, 475.31it/s]\n"
     ]
    },
    {
     "name": "stdout",
     "output_type": "stream",
     "text": [
      "Epoch 6/40: Train Loss: 0.0326, Val Loss: 0.0435\n",
      "Validation loss improved. Saving best model state.\n"
     ]
    },
    {
     "name": "stderr",
     "output_type": "stream",
     "text": [
      "Epoch 7/40 Training: 100%|██████████| 217/217 [00:00<00:00, 266.08it/s]\n",
      "Epoch 7/40 Validating: 100%|██████████| 27/27 [00:00<00:00, 674.08it/s]\n"
     ]
    },
    {
     "name": "stdout",
     "output_type": "stream",
     "text": [
      "Epoch 7/40: Train Loss: 0.0305, Val Loss: 0.0384\n",
      "Validation loss improved. Saving best model state.\n"
     ]
    },
    {
     "name": "stderr",
     "output_type": "stream",
     "text": [
      "Epoch 8/40 Training: 100%|██████████| 217/217 [00:00<00:00, 259.09it/s]\n",
      "Epoch 8/40 Validating: 100%|██████████| 27/27 [00:00<00:00, 550.13it/s]\n"
     ]
    },
    {
     "name": "stdout",
     "output_type": "stream",
     "text": [
      "Epoch 8/40: Train Loss: 0.0275, Val Loss: 0.0354\n",
      "Validation loss improved. Saving best model state.\n"
     ]
    },
    {
     "name": "stderr",
     "output_type": "stream",
     "text": [
      "Epoch 9/40 Training: 100%|██████████| 217/217 [00:00<00:00, 261.05it/s]\n",
      "Epoch 9/40 Validating: 100%|██████████| 27/27 [00:00<00:00, 589.36it/s]\n"
     ]
    },
    {
     "name": "stdout",
     "output_type": "stream",
     "text": [
      "Epoch 9/40: Train Loss: 0.0260, Val Loss: 0.0341\n",
      "Validation loss improved. Saving best model state.\n"
     ]
    },
    {
     "name": "stderr",
     "output_type": "stream",
     "text": [
      "Epoch 10/40 Training: 100%|██████████| 217/217 [00:00<00:00, 264.18it/s]\n",
      "Epoch 10/40 Validating: 100%|██████████| 27/27 [00:00<00:00, 618.19it/s]\n"
     ]
    },
    {
     "name": "stdout",
     "output_type": "stream",
     "text": [
      "Epoch 10/40: Train Loss: 0.0253, Val Loss: 0.0332\n",
      "Validation loss improved. Saving best model state.\n"
     ]
    },
    {
     "name": "stderr",
     "output_type": "stream",
     "text": [
      "Epoch 11/40 Training: 100%|██████████| 217/217 [00:00<00:00, 272.25it/s]\n",
      "Epoch 11/40 Validating: 100%|██████████| 27/27 [00:00<00:00, 390.61it/s]\n"
     ]
    },
    {
     "name": "stdout",
     "output_type": "stream",
     "text": [
      "Epoch 11/40: Train Loss: 0.0244, Val Loss: 0.0332\n",
      "Validation loss improved. Saving best model state.\n"
     ]
    },
    {
     "name": "stderr",
     "output_type": "stream",
     "text": [
      "Epoch 12/40 Training: 100%|██████████| 217/217 [00:00<00:00, 280.40it/s]\n",
      "Epoch 12/40 Validating: 100%|██████████| 27/27 [00:00<00:00, 661.57it/s]\n"
     ]
    },
    {
     "name": "stdout",
     "output_type": "stream",
     "text": [
      "Epoch 12/40: Train Loss: 0.0239, Val Loss: 0.0328\n",
      "Validation loss improved. Saving best model state.\n"
     ]
    },
    {
     "name": "stderr",
     "output_type": "stream",
     "text": [
      "Epoch 13/40 Training: 100%|██████████| 217/217 [00:00<00:00, 285.28it/s]\n",
      "Epoch 13/40 Validating: 100%|██████████| 27/27 [00:00<00:00, 246.49it/s]\n"
     ]
    },
    {
     "name": "stdout",
     "output_type": "stream",
     "text": [
      "Epoch 13/40: Train Loss: 0.0235, Val Loss: 0.0323\n",
      "Validation loss improved. Saving best model state.\n"
     ]
    },
    {
     "name": "stderr",
     "output_type": "stream",
     "text": [
      "Epoch 14/40 Training: 100%|██████████| 217/217 [00:00<00:00, 267.60it/s]\n",
      "Epoch 14/40 Validating: 100%|██████████| 27/27 [00:00<00:00, 448.77it/s]\n"
     ]
    },
    {
     "name": "stdout",
     "output_type": "stream",
     "text": [
      "Epoch 14/40: Train Loss: 0.0233, Val Loss: 0.0325\n"
     ]
    },
    {
     "name": "stderr",
     "output_type": "stream",
     "text": [
      "Epoch 15/40 Training: 100%|██████████| 217/217 [00:00<00:00, 243.33it/s]\n",
      "Epoch 15/40 Validating: 100%|██████████| 27/27 [00:00<00:00, 653.72it/s]\n"
     ]
    },
    {
     "name": "stdout",
     "output_type": "stream",
     "text": [
      "Epoch 15/40: Train Loss: 0.0231, Val Loss: 0.0320\n",
      "Validation loss improved. Saving best model state.\n"
     ]
    },
    {
     "name": "stderr",
     "output_type": "stream",
     "text": [
      "Epoch 16/40 Training: 100%|██████████| 217/217 [00:00<00:00, 284.10it/s]\n",
      "Epoch 16/40 Validating: 100%|██████████| 27/27 [00:00<00:00, 503.95it/s]\n"
     ]
    },
    {
     "name": "stdout",
     "output_type": "stream",
     "text": [
      "Epoch 16/40: Train Loss: 0.0229, Val Loss: 0.0319\n",
      "Validation loss improved. Saving best model state.\n"
     ]
    },
    {
     "name": "stderr",
     "output_type": "stream",
     "text": [
      "Epoch 17/40 Training: 100%|██████████| 217/217 [00:00<00:00, 264.23it/s]\n",
      "Epoch 17/40 Validating: 100%|██████████| 27/27 [00:00<00:00, 577.40it/s]\n"
     ]
    },
    {
     "name": "stdout",
     "output_type": "stream",
     "text": [
      "Epoch 17/40: Train Loss: 0.0227, Val Loss: 0.0317\n",
      "Validation loss improved. Saving best model state.\n"
     ]
    },
    {
     "name": "stderr",
     "output_type": "stream",
     "text": [
      "Epoch 18/40 Training: 100%|██████████| 217/217 [00:00<00:00, 274.41it/s]\n",
      "Epoch 18/40 Validating: 100%|██████████| 27/27 [00:00<00:00, 505.22it/s]\n"
     ]
    },
    {
     "name": "stdout",
     "output_type": "stream",
     "text": [
      "Epoch 18/40: Train Loss: 0.0226, Val Loss: 0.0316\n",
      "Validation loss improved. Saving best model state.\n"
     ]
    },
    {
     "name": "stderr",
     "output_type": "stream",
     "text": [
      "Epoch 19/40 Training: 100%|██████████| 217/217 [00:00<00:00, 274.24it/s]\n",
      "Epoch 19/40 Validating: 100%|██████████| 27/27 [00:00<00:00, 554.51it/s]\n"
     ]
    },
    {
     "name": "stdout",
     "output_type": "stream",
     "text": [
      "Epoch 19/40: Train Loss: 0.0225, Val Loss: 0.0317\n"
     ]
    },
    {
     "name": "stderr",
     "output_type": "stream",
     "text": [
      "Epoch 20/40 Training: 100%|██████████| 217/217 [00:00<00:00, 258.32it/s]\n",
      "Epoch 20/40 Validating: 100%|██████████| 27/27 [00:00<00:00, 523.70it/s]\n"
     ]
    },
    {
     "name": "stdout",
     "output_type": "stream",
     "text": [
      "Epoch 20/40: Train Loss: 0.0224, Val Loss: 0.0318\n"
     ]
    },
    {
     "name": "stderr",
     "output_type": "stream",
     "text": [
      "Epoch 21/40 Training: 100%|██████████| 217/217 [00:00<00:00, 266.04it/s]\n",
      "Epoch 21/40 Validating: 100%|██████████| 27/27 [00:00<00:00, 298.80it/s]\n"
     ]
    },
    {
     "name": "stdout",
     "output_type": "stream",
     "text": [
      "Epoch 21/40: Train Loss: 0.0223, Val Loss: 0.0318\n"
     ]
    },
    {
     "name": "stderr",
     "output_type": "stream",
     "text": [
      "Epoch 22/40 Training: 100%|██████████| 217/217 [00:00<00:00, 272.64it/s]\n",
      "Epoch 22/40 Validating: 100%|██████████| 27/27 [00:00<00:00, 548.91it/s]\n"
     ]
    },
    {
     "name": "stdout",
     "output_type": "stream",
     "text": [
      "Epoch 22/40: Train Loss: 0.0222, Val Loss: 0.0321\n"
     ]
    },
    {
     "name": "stderr",
     "output_type": "stream",
     "text": [
      "Epoch 23/40 Training: 100%|██████████| 217/217 [00:00<00:00, 259.18it/s]\n",
      "Epoch 23/40 Validating: 100%|██████████| 27/27 [00:00<00:00, 655.58it/s]\n"
     ]
    },
    {
     "name": "stdout",
     "output_type": "stream",
     "text": [
      "Epoch 23/40: Train Loss: 0.0222, Val Loss: 0.0317\n"
     ]
    },
    {
     "name": "stderr",
     "output_type": "stream",
     "text": [
      "Epoch 24/40 Training: 100%|██████████| 217/217 [00:00<00:00, 283.48it/s]\n",
      "Epoch 24/40 Validating: 100%|██████████| 27/27 [00:00<00:00, 604.49it/s]\n"
     ]
    },
    {
     "name": "stdout",
     "output_type": "stream",
     "text": [
      "Epoch 24/40: Train Loss: 0.0220, Val Loss: 0.0319\n"
     ]
    },
    {
     "name": "stderr",
     "output_type": "stream",
     "text": [
      "Epoch 25/40 Training: 100%|██████████| 217/217 [00:00<00:00, 265.98it/s]\n",
      "Epoch 25/40 Validating: 100%|██████████| 27/27 [00:00<00:00, 552.54it/s]\n"
     ]
    },
    {
     "name": "stdout",
     "output_type": "stream",
     "text": [
      "Epoch 25/40: Train Loss: 0.0219, Val Loss: 0.0318\n"
     ]
    },
    {
     "name": "stderr",
     "output_type": "stream",
     "text": [
      "Epoch 26/40 Training: 100%|██████████| 217/217 [00:00<00:00, 251.82it/s]\n",
      "Epoch 26/40 Validating: 100%|██████████| 27/27 [00:00<00:00, 380.02it/s]\n"
     ]
    },
    {
     "name": "stdout",
     "output_type": "stream",
     "text": [
      "Epoch 26/40: Train Loss: 0.0218, Val Loss: 0.0318\n"
     ]
    },
    {
     "name": "stderr",
     "output_type": "stream",
     "text": [
      "Epoch 27/40 Training: 100%|██████████| 217/217 [00:00<00:00, 272.32it/s]\n",
      "Epoch 27/40 Validating: 100%|██████████| 27/27 [00:00<00:00, 567.80it/s]\n"
     ]
    },
    {
     "name": "stdout",
     "output_type": "stream",
     "text": [
      "Epoch 27/40: Train Loss: 0.0218, Val Loss: 0.0318\n"
     ]
    },
    {
     "name": "stderr",
     "output_type": "stream",
     "text": [
      "Epoch 28/40 Training: 100%|██████████| 217/217 [00:00<00:00, 263.70it/s]\n",
      "Epoch 28/40 Validating: 100%|██████████| 27/27 [00:00<00:00, 609.21it/s]\n"
     ]
    },
    {
     "name": "stdout",
     "output_type": "stream",
     "text": [
      "Epoch 28/40: Train Loss: 0.0216, Val Loss: 0.0320\n"
     ]
    },
    {
     "name": "stderr",
     "output_type": "stream",
     "text": [
      "Epoch 29/40 Training: 100%|██████████| 217/217 [00:00<00:00, 286.21it/s]\n",
      "Epoch 29/40 Validating: 100%|██████████| 27/27 [00:00<00:00, 645.80it/s]\n"
     ]
    },
    {
     "name": "stdout",
     "output_type": "stream",
     "text": [
      "Epoch 29/40: Train Loss: 0.0216, Val Loss: 0.0318\n"
     ]
    },
    {
     "name": "stderr",
     "output_type": "stream",
     "text": [
      "Epoch 30/40 Training: 100%|██████████| 217/217 [00:00<00:00, 267.94it/s]\n",
      "Epoch 30/40 Validating: 100%|██████████| 27/27 [00:00<00:00, 596.08it/s]\n"
     ]
    },
    {
     "name": "stdout",
     "output_type": "stream",
     "text": [
      "Epoch 30/40: Train Loss: 0.0215, Val Loss: 0.0319\n"
     ]
    },
    {
     "name": "stderr",
     "output_type": "stream",
     "text": [
      "Epoch 31/40 Training: 100%|██████████| 217/217 [00:00<00:00, 263.63it/s]\n",
      "Epoch 31/40 Validating: 100%|██████████| 27/27 [00:00<00:00, 525.69it/s]\n"
     ]
    },
    {
     "name": "stdout",
     "output_type": "stream",
     "text": [
      "Epoch 31/40: Train Loss: 0.0214, Val Loss: 0.0315\n",
      "Validation loss improved. Saving best model state.\n"
     ]
    },
    {
     "name": "stderr",
     "output_type": "stream",
     "text": [
      "Epoch 32/40 Training: 100%|██████████| 217/217 [00:00<00:00, 270.20it/s]\n",
      "Epoch 32/40 Validating: 100%|██████████| 27/27 [00:00<00:00, 619.86it/s]\n"
     ]
    },
    {
     "name": "stdout",
     "output_type": "stream",
     "text": [
      "Epoch 32/40: Train Loss: 0.0214, Val Loss: 0.0317\n"
     ]
    },
    {
     "name": "stderr",
     "output_type": "stream",
     "text": [
      "Epoch 33/40 Training: 100%|██████████| 217/217 [00:00<00:00, 266.54it/s]\n",
      "Epoch 33/40 Validating: 100%|██████████| 27/27 [00:00<00:00, 615.73it/s]\n"
     ]
    },
    {
     "name": "stdout",
     "output_type": "stream",
     "text": [
      "Epoch 33/40: Train Loss: 0.0213, Val Loss: 0.0318\n"
     ]
    },
    {
     "name": "stderr",
     "output_type": "stream",
     "text": [
      "Epoch 34/40 Training: 100%|██████████| 217/217 [00:00<00:00, 278.43it/s]\n",
      "Epoch 34/40 Validating: 100%|██████████| 27/27 [00:00<00:00, 630.85it/s]\n"
     ]
    },
    {
     "name": "stdout",
     "output_type": "stream",
     "text": [
      "Epoch 34/40: Train Loss: 0.0212, Val Loss: 0.0317\n"
     ]
    },
    {
     "name": "stderr",
     "output_type": "stream",
     "text": [
      "Epoch 35/40 Training: 100%|██████████| 217/217 [00:00<00:00, 261.65it/s]\n",
      "Epoch 35/40 Validating: 100%|██████████| 27/27 [00:00<00:00, 611.82it/s]\n"
     ]
    },
    {
     "name": "stdout",
     "output_type": "stream",
     "text": [
      "Epoch 35/40: Train Loss: 0.0212, Val Loss: 0.0318\n"
     ]
    },
    {
     "name": "stderr",
     "output_type": "stream",
     "text": [
      "Epoch 36/40 Training: 100%|██████████| 217/217 [00:00<00:00, 274.20it/s]\n",
      "Epoch 36/40 Validating: 100%|██████████| 27/27 [00:00<00:00, 505.43it/s]\n"
     ]
    },
    {
     "name": "stdout",
     "output_type": "stream",
     "text": [
      "Epoch 36/40: Train Loss: 0.0211, Val Loss: 0.0318\n"
     ]
    },
    {
     "name": "stderr",
     "output_type": "stream",
     "text": [
      "Epoch 37/40 Training: 100%|██████████| 217/217 [00:00<00:00, 259.52it/s]\n",
      "Epoch 37/40 Validating: 100%|██████████| 27/27 [00:00<00:00, 536.90it/s]\n"
     ]
    },
    {
     "name": "stdout",
     "output_type": "stream",
     "text": [
      "Epoch 37/40: Train Loss: 0.0211, Val Loss: 0.0322\n"
     ]
    },
    {
     "name": "stderr",
     "output_type": "stream",
     "text": [
      "Epoch 38/40 Training: 100%|██████████| 217/217 [00:00<00:00, 249.85it/s]\n",
      "Epoch 38/40 Validating: 100%|██████████| 27/27 [00:00<00:00, 651.14it/s]\n"
     ]
    },
    {
     "name": "stdout",
     "output_type": "stream",
     "text": [
      "Epoch 38/40: Train Loss: 0.0210, Val Loss: 0.0319\n"
     ]
    },
    {
     "name": "stderr",
     "output_type": "stream",
     "text": [
      "Epoch 39/40 Training: 100%|██████████| 217/217 [00:00<00:00, 271.10it/s]\n",
      "Epoch 39/40 Validating: 100%|██████████| 27/27 [00:00<00:00, 555.96it/s]\n"
     ]
    },
    {
     "name": "stdout",
     "output_type": "stream",
     "text": [
      "Epoch 39/40: Train Loss: 0.0210, Val Loss: 0.0319\n"
     ]
    },
    {
     "name": "stderr",
     "output_type": "stream",
     "text": [
      "Epoch 40/40 Training: 100%|██████████| 217/217 [00:00<00:00, 257.26it/s]\n",
      "Epoch 40/40 Validating: 100%|██████████| 27/27 [00:00<00:00, 585.19it/s]"
     ]
    },
    {
     "name": "stdout",
     "output_type": "stream",
     "text": [
      "Epoch 40/40: Train Loss: 0.0209, Val Loss: 0.0318\n",
      "Training complete. models saved to models/\n"
     ]
    },
    {
     "name": "stderr",
     "output_type": "stream",
     "text": [
      "\n"
     ]
    }
   ],
   "source": [
    "model = lstm_model\n",
    "optimizer = torch.optim.Adam(model.parameters(), lr=1e-3)\n",
    "loss_fn = nn.L1Loss()\n",
    "\n",
    "print(\"\\nStarting model training...\")\n",
    "train_model(\n",
    "    model=model,\n",
    "    optimizer=optimizer,\n",
    "    loss_fn=loss_fn,\n",
    "    train_loader=train_loader,\n",
    "    val_loader=val_loader,\n",
    "    epochs=40, \n",
    "    device=device,\n",
    "    name='lstm_7f_rec'\n",
    ")\n",
    "\n",
    "lstm_model=model"
   ]
  },
  {
   "cell_type": "code",
   "execution_count": 13,
   "id": "b61a54f5",
   "metadata": {},
   "outputs": [
    {
     "name": "stdout",
     "output_type": "stream",
     "text": [
      "\n",
      "Starting model training...\n"
     ]
    },
    {
     "name": "stderr",
     "output_type": "stream",
     "text": [
      "Epoch 1/40 Training: 100%|██████████| 217/217 [00:01<00:00, 199.94it/s]\n",
      "Epoch 1/40 Validating: 100%|██████████| 27/27 [00:00<00:00, 423.90it/s]\n"
     ]
    },
    {
     "name": "stdout",
     "output_type": "stream",
     "text": [
      "Epoch 1/40: Train Loss: 0.0529, Val Loss: 0.0694\n",
      "Validation loss improved. Saving best model state.\n"
     ]
    },
    {
     "name": "stderr",
     "output_type": "stream",
     "text": [
      "Epoch 2/40 Training: 100%|██████████| 217/217 [00:00<00:00, 222.80it/s]\n",
      "Epoch 2/40 Validating: 100%|██████████| 27/27 [00:00<00:00, 363.90it/s]\n"
     ]
    },
    {
     "name": "stdout",
     "output_type": "stream",
     "text": [
      "Epoch 2/40: Train Loss: 0.0460, Val Loss: 0.0581\n",
      "Validation loss improved. Saving best model state.\n"
     ]
    },
    {
     "name": "stderr",
     "output_type": "stream",
     "text": [
      "Epoch 3/40 Training: 100%|██████████| 217/217 [00:00<00:00, 220.06it/s]\n",
      "Epoch 3/40 Validating: 100%|██████████| 27/27 [00:00<00:00, 499.63it/s]\n"
     ]
    },
    {
     "name": "stdout",
     "output_type": "stream",
     "text": [
      "Epoch 3/40: Train Loss: 0.0396, Val Loss: 0.0489\n",
      "Validation loss improved. Saving best model state.\n"
     ]
    },
    {
     "name": "stderr",
     "output_type": "stream",
     "text": [
      "Epoch 4/40 Training: 100%|██████████| 217/217 [00:01<00:00, 216.94it/s]\n",
      "Epoch 4/40 Validating: 100%|██████████| 27/27 [00:00<00:00, 519.51it/s]\n"
     ]
    },
    {
     "name": "stdout",
     "output_type": "stream",
     "text": [
      "Epoch 4/40: Train Loss: 0.0344, Val Loss: 0.0447\n",
      "Validation loss improved. Saving best model state.\n"
     ]
    },
    {
     "name": "stderr",
     "output_type": "stream",
     "text": [
      "Epoch 5/40 Training: 100%|██████████| 217/217 [00:00<00:00, 226.57it/s]\n",
      "Epoch 5/40 Validating: 100%|██████████| 27/27 [00:00<00:00, 398.71it/s]\n"
     ]
    },
    {
     "name": "stdout",
     "output_type": "stream",
     "text": [
      "Epoch 5/40: Train Loss: 0.0308, Val Loss: 0.0410\n",
      "Validation loss improved. Saving best model state.\n"
     ]
    },
    {
     "name": "stderr",
     "output_type": "stream",
     "text": [
      "Epoch 6/40 Training: 100%|██████████| 217/217 [00:00<00:00, 221.35it/s]\n",
      "Epoch 6/40 Validating: 100%|██████████| 27/27 [00:00<00:00, 501.60it/s]\n"
     ]
    },
    {
     "name": "stdout",
     "output_type": "stream",
     "text": [
      "Epoch 6/40: Train Loss: 0.0284, Val Loss: 0.0391\n",
      "Validation loss improved. Saving best model state.\n"
     ]
    },
    {
     "name": "stderr",
     "output_type": "stream",
     "text": [
      "Epoch 7/40 Training: 100%|██████████| 217/217 [00:01<00:00, 205.09it/s]\n",
      "Epoch 7/40 Validating: 100%|██████████| 27/27 [00:00<00:00, 565.05it/s]\n"
     ]
    },
    {
     "name": "stdout",
     "output_type": "stream",
     "text": [
      "Epoch 7/40: Train Loss: 0.0272, Val Loss: 0.0369\n",
      "Validation loss improved. Saving best model state.\n"
     ]
    },
    {
     "name": "stderr",
     "output_type": "stream",
     "text": [
      "Epoch 8/40 Training: 100%|██████████| 217/217 [00:00<00:00, 223.01it/s]\n",
      "Epoch 8/40 Validating: 100%|██████████| 27/27 [00:00<00:00, 489.09it/s]\n"
     ]
    },
    {
     "name": "stdout",
     "output_type": "stream",
     "text": [
      "Epoch 8/40: Train Loss: 0.0260, Val Loss: 0.0358\n",
      "Validation loss improved. Saving best model state.\n"
     ]
    },
    {
     "name": "stderr",
     "output_type": "stream",
     "text": [
      "Epoch 9/40 Training: 100%|██████████| 217/217 [00:01<00:00, 214.35it/s]\n",
      "Epoch 9/40 Validating: 100%|██████████| 27/27 [00:00<00:00, 543.50it/s]\n"
     ]
    },
    {
     "name": "stdout",
     "output_type": "stream",
     "text": [
      "Epoch 9/40: Train Loss: 0.0251, Val Loss: 0.0355\n",
      "Validation loss improved. Saving best model state.\n"
     ]
    },
    {
     "name": "stderr",
     "output_type": "stream",
     "text": [
      "Epoch 10/40 Training: 100%|██████████| 217/217 [00:01<00:00, 211.45it/s]\n",
      "Epoch 10/40 Validating: 100%|██████████| 27/27 [00:00<00:00, 556.05it/s]\n"
     ]
    },
    {
     "name": "stdout",
     "output_type": "stream",
     "text": [
      "Epoch 10/40: Train Loss: 0.0245, Val Loss: 0.0355\n",
      "Validation loss improved. Saving best model state.\n"
     ]
    },
    {
     "name": "stderr",
     "output_type": "stream",
     "text": [
      "Epoch 11/40 Training: 100%|██████████| 217/217 [00:01<00:00, 207.37it/s]\n",
      "Epoch 11/40 Validating: 100%|██████████| 27/27 [00:00<00:00, 550.05it/s]\n"
     ]
    },
    {
     "name": "stdout",
     "output_type": "stream",
     "text": [
      "Epoch 11/40: Train Loss: 0.0238, Val Loss: 0.0345\n",
      "Validation loss improved. Saving best model state.\n"
     ]
    },
    {
     "name": "stderr",
     "output_type": "stream",
     "text": [
      "Epoch 12/40 Training: 100%|██████████| 217/217 [00:01<00:00, 206.94it/s]\n",
      "Epoch 12/40 Validating: 100%|██████████| 27/27 [00:00<00:00, 510.70it/s]\n"
     ]
    },
    {
     "name": "stdout",
     "output_type": "stream",
     "text": [
      "Epoch 12/40: Train Loss: 0.0232, Val Loss: 0.0350\n"
     ]
    },
    {
     "name": "stderr",
     "output_type": "stream",
     "text": [
      "Epoch 13/40 Training: 100%|██████████| 217/217 [00:00<00:00, 224.36it/s]\n",
      "Epoch 13/40 Validating: 100%|██████████| 27/27 [00:00<00:00, 332.49it/s]\n"
     ]
    },
    {
     "name": "stdout",
     "output_type": "stream",
     "text": [
      "Epoch 13/40: Train Loss: 0.0228, Val Loss: 0.0341\n",
      "Validation loss improved. Saving best model state.\n"
     ]
    },
    {
     "name": "stderr",
     "output_type": "stream",
     "text": [
      "Epoch 14/40 Training: 100%|██████████| 217/217 [00:01<00:00, 215.23it/s]\n",
      "Epoch 14/40 Validating: 100%|██████████| 27/27 [00:00<00:00, 398.60it/s]\n"
     ]
    },
    {
     "name": "stdout",
     "output_type": "stream",
     "text": [
      "Epoch 14/40: Train Loss: 0.0224, Val Loss: 0.0345\n"
     ]
    },
    {
     "name": "stderr",
     "output_type": "stream",
     "text": [
      "Epoch 15/40 Training: 100%|██████████| 217/217 [00:01<00:00, 201.54it/s]\n",
      "Epoch 15/40 Validating: 100%|██████████| 27/27 [00:00<00:00, 485.69it/s]\n"
     ]
    },
    {
     "name": "stdout",
     "output_type": "stream",
     "text": [
      "Epoch 15/40: Train Loss: 0.0223, Val Loss: 0.0340\n",
      "Validation loss improved. Saving best model state.\n"
     ]
    },
    {
     "name": "stderr",
     "output_type": "stream",
     "text": [
      "Epoch 16/40 Training: 100%|██████████| 217/217 [00:01<00:00, 204.53it/s]\n",
      "Epoch 16/40 Validating: 100%|██████████| 27/27 [00:00<00:00, 519.89it/s]\n"
     ]
    },
    {
     "name": "stdout",
     "output_type": "stream",
     "text": [
      "Epoch 16/40: Train Loss: 0.0220, Val Loss: 0.0342\n"
     ]
    },
    {
     "name": "stderr",
     "output_type": "stream",
     "text": [
      "Epoch 17/40 Training: 100%|██████████| 217/217 [00:01<00:00, 216.59it/s]\n",
      "Epoch 17/40 Validating: 100%|██████████| 27/27 [00:00<00:00, 558.71it/s]\n"
     ]
    },
    {
     "name": "stdout",
     "output_type": "stream",
     "text": [
      "Epoch 17/40: Train Loss: 0.0218, Val Loss: 0.0337\n",
      "Validation loss improved. Saving best model state.\n"
     ]
    },
    {
     "name": "stderr",
     "output_type": "stream",
     "text": [
      "Epoch 18/40 Training: 100%|██████████| 217/217 [00:00<00:00, 229.24it/s]\n",
      "Epoch 18/40 Validating: 100%|██████████| 27/27 [00:00<00:00, 468.35it/s]\n"
     ]
    },
    {
     "name": "stdout",
     "output_type": "stream",
     "text": [
      "Epoch 18/40: Train Loss: 0.0216, Val Loss: 0.0334\n",
      "Validation loss improved. Saving best model state.\n"
     ]
    },
    {
     "name": "stderr",
     "output_type": "stream",
     "text": [
      "Epoch 19/40 Training: 100%|██████████| 217/217 [00:01<00:00, 208.89it/s]\n",
      "Epoch 19/40 Validating: 100%|██████████| 27/27 [00:00<00:00, 509.14it/s]\n"
     ]
    },
    {
     "name": "stdout",
     "output_type": "stream",
     "text": [
      "Epoch 19/40: Train Loss: 0.0214, Val Loss: 0.0334\n"
     ]
    },
    {
     "name": "stderr",
     "output_type": "stream",
     "text": [
      "Epoch 20/40 Training: 100%|██████████| 217/217 [00:00<00:00, 220.80it/s]\n",
      "Epoch 20/40 Validating: 100%|██████████| 27/27 [00:00<00:00, 497.03it/s]\n"
     ]
    },
    {
     "name": "stdout",
     "output_type": "stream",
     "text": [
      "Epoch 20/40: Train Loss: 0.0211, Val Loss: 0.0330\n",
      "Validation loss improved. Saving best model state.\n"
     ]
    },
    {
     "name": "stderr",
     "output_type": "stream",
     "text": [
      "Epoch 21/40 Training: 100%|██████████| 217/217 [00:01<00:00, 210.35it/s]\n",
      "Epoch 21/40 Validating: 100%|██████████| 27/27 [00:00<00:00, 461.29it/s]\n"
     ]
    },
    {
     "name": "stdout",
     "output_type": "stream",
     "text": [
      "Epoch 21/40: Train Loss: 0.0210, Val Loss: 0.0328\n",
      "Validation loss improved. Saving best model state.\n"
     ]
    },
    {
     "name": "stderr",
     "output_type": "stream",
     "text": [
      "Epoch 22/40 Training: 100%|██████████| 217/217 [00:00<00:00, 221.32it/s]\n",
      "Epoch 22/40 Validating: 100%|██████████| 27/27 [00:00<00:00, 588.64it/s]\n"
     ]
    },
    {
     "name": "stdout",
     "output_type": "stream",
     "text": [
      "Epoch 22/40: Train Loss: 0.0209, Val Loss: 0.0330\n"
     ]
    },
    {
     "name": "stderr",
     "output_type": "stream",
     "text": [
      "Epoch 23/40 Training: 100%|██████████| 217/217 [00:00<00:00, 220.60it/s]\n",
      "Epoch 23/40 Validating: 100%|██████████| 27/27 [00:00<00:00, 556.95it/s]\n"
     ]
    },
    {
     "name": "stdout",
     "output_type": "stream",
     "text": [
      "Epoch 23/40: Train Loss: 0.0208, Val Loss: 0.0330\n"
     ]
    },
    {
     "name": "stderr",
     "output_type": "stream",
     "text": [
      "Epoch 24/40 Training: 100%|██████████| 217/217 [00:00<00:00, 218.75it/s]\n",
      "Epoch 24/40 Validating: 100%|██████████| 27/27 [00:00<00:00, 556.83it/s]\n"
     ]
    },
    {
     "name": "stdout",
     "output_type": "stream",
     "text": [
      "Epoch 24/40: Train Loss: 0.0207, Val Loss: 0.0329\n"
     ]
    },
    {
     "name": "stderr",
     "output_type": "stream",
     "text": [
      "Epoch 25/40 Training: 100%|██████████| 217/217 [00:01<00:00, 214.36it/s]\n",
      "Epoch 25/40 Validating: 100%|██████████| 27/27 [00:00<00:00, 484.35it/s]\n"
     ]
    },
    {
     "name": "stdout",
     "output_type": "stream",
     "text": [
      "Epoch 25/40: Train Loss: 0.0205, Val Loss: 0.0329\n"
     ]
    },
    {
     "name": "stderr",
     "output_type": "stream",
     "text": [
      "Epoch 26/40 Training: 100%|██████████| 217/217 [00:01<00:00, 210.43it/s]\n",
      "Epoch 26/40 Validating: 100%|██████████| 27/27 [00:00<00:00, 540.95it/s]\n"
     ]
    },
    {
     "name": "stdout",
     "output_type": "stream",
     "text": [
      "Epoch 26/40: Train Loss: 0.0204, Val Loss: 0.0329\n"
     ]
    },
    {
     "name": "stderr",
     "output_type": "stream",
     "text": [
      "Epoch 27/40 Training: 100%|██████████| 217/217 [00:00<00:00, 217.11it/s]\n",
      "Epoch 27/40 Validating: 100%|██████████| 27/27 [00:00<00:00, 460.80it/s]\n"
     ]
    },
    {
     "name": "stdout",
     "output_type": "stream",
     "text": [
      "Epoch 27/40: Train Loss: 0.0204, Val Loss: 0.0328\n",
      "Validation loss improved. Saving best model state.\n"
     ]
    },
    {
     "name": "stderr",
     "output_type": "stream",
     "text": [
      "Epoch 28/40 Training: 100%|██████████| 217/217 [00:01<00:00, 212.34it/s]\n",
      "Epoch 28/40 Validating: 100%|██████████| 27/27 [00:00<00:00, 518.77it/s]\n"
     ]
    },
    {
     "name": "stdout",
     "output_type": "stream",
     "text": [
      "Epoch 28/40: Train Loss: 0.0203, Val Loss: 0.0329\n"
     ]
    },
    {
     "name": "stderr",
     "output_type": "stream",
     "text": [
      "Epoch 29/40 Training: 100%|██████████| 217/217 [00:00<00:00, 226.41it/s]\n",
      "Epoch 29/40 Validating: 100%|██████████| 27/27 [00:00<00:00, 484.07it/s]\n"
     ]
    },
    {
     "name": "stdout",
     "output_type": "stream",
     "text": [
      "Epoch 29/40: Train Loss: 0.0202, Val Loss: 0.0327\n",
      "Validation loss improved. Saving best model state.\n"
     ]
    },
    {
     "name": "stderr",
     "output_type": "stream",
     "text": [
      "Epoch 30/40 Training: 100%|██████████| 217/217 [00:01<00:00, 216.67it/s]\n",
      "Epoch 30/40 Validating: 100%|██████████| 27/27 [00:00<00:00, 553.33it/s]\n"
     ]
    },
    {
     "name": "stdout",
     "output_type": "stream",
     "text": [
      "Epoch 30/40: Train Loss: 0.0202, Val Loss: 0.0329\n"
     ]
    },
    {
     "name": "stderr",
     "output_type": "stream",
     "text": [
      "Epoch 31/40 Training: 100%|██████████| 217/217 [00:01<00:00, 211.97it/s]\n",
      "Epoch 31/40 Validating: 100%|██████████| 27/27 [00:00<00:00, 401.24it/s]\n"
     ]
    },
    {
     "name": "stdout",
     "output_type": "stream",
     "text": [
      "Epoch 31/40: Train Loss: 0.0201, Val Loss: 0.0327\n",
      "Validation loss improved. Saving best model state.\n"
     ]
    },
    {
     "name": "stderr",
     "output_type": "stream",
     "text": [
      "Epoch 32/40 Training: 100%|██████████| 217/217 [00:01<00:00, 212.84it/s]\n",
      "Epoch 32/40 Validating: 100%|██████████| 27/27 [00:00<00:00, 528.38it/s]\n"
     ]
    },
    {
     "name": "stdout",
     "output_type": "stream",
     "text": [
      "Epoch 32/40: Train Loss: 0.0201, Val Loss: 0.0330\n"
     ]
    },
    {
     "name": "stderr",
     "output_type": "stream",
     "text": [
      "Epoch 33/40 Training: 100%|██████████| 217/217 [00:01<00:00, 214.01it/s]\n",
      "Epoch 33/40 Validating: 100%|██████████| 27/27 [00:00<00:00, 487.41it/s]\n"
     ]
    },
    {
     "name": "stdout",
     "output_type": "stream",
     "text": [
      "Epoch 33/40: Train Loss: 0.0200, Val Loss: 0.0328\n"
     ]
    },
    {
     "name": "stderr",
     "output_type": "stream",
     "text": [
      "Epoch 34/40 Training: 100%|██████████| 217/217 [00:00<00:00, 217.39it/s]\n",
      "Epoch 34/40 Validating: 100%|██████████| 27/27 [00:00<00:00, 467.86it/s]\n"
     ]
    },
    {
     "name": "stdout",
     "output_type": "stream",
     "text": [
      "Epoch 34/40: Train Loss: 0.0200, Val Loss: 0.0326\n",
      "Validation loss improved. Saving best model state.\n"
     ]
    },
    {
     "name": "stderr",
     "output_type": "stream",
     "text": [
      "Epoch 35/40 Training: 100%|██████████| 217/217 [00:01<00:00, 206.26it/s]\n",
      "Epoch 35/40 Validating: 100%|██████████| 27/27 [00:00<00:00, 504.21it/s]\n"
     ]
    },
    {
     "name": "stdout",
     "output_type": "stream",
     "text": [
      "Epoch 35/40: Train Loss: 0.0199, Val Loss: 0.0329\n"
     ]
    },
    {
     "name": "stderr",
     "output_type": "stream",
     "text": [
      "Epoch 36/40 Training: 100%|██████████| 217/217 [00:01<00:00, 206.40it/s]\n",
      "Epoch 36/40 Validating: 100%|██████████| 27/27 [00:00<00:00, 387.76it/s]\n"
     ]
    },
    {
     "name": "stdout",
     "output_type": "stream",
     "text": [
      "Epoch 36/40: Train Loss: 0.0199, Val Loss: 0.0327\n"
     ]
    },
    {
     "name": "stderr",
     "output_type": "stream",
     "text": [
      "Epoch 37/40 Training: 100%|██████████| 217/217 [00:01<00:00, 216.87it/s]\n",
      "Epoch 37/40 Validating: 100%|██████████| 27/27 [00:00<00:00, 294.15it/s]\n"
     ]
    },
    {
     "name": "stdout",
     "output_type": "stream",
     "text": [
      "Epoch 37/40: Train Loss: 0.0199, Val Loss: 0.0324\n",
      "Validation loss improved. Saving best model state.\n"
     ]
    },
    {
     "name": "stderr",
     "output_type": "stream",
     "text": [
      "Epoch 38/40 Training: 100%|██████████| 217/217 [00:00<00:00, 219.99it/s]\n",
      "Epoch 38/40 Validating: 100%|██████████| 27/27 [00:00<00:00, 528.85it/s]\n"
     ]
    },
    {
     "name": "stdout",
     "output_type": "stream",
     "text": [
      "Epoch 38/40: Train Loss: 0.0198, Val Loss: 0.0329\n"
     ]
    },
    {
     "name": "stderr",
     "output_type": "stream",
     "text": [
      "Epoch 39/40 Training: 100%|██████████| 217/217 [00:01<00:00, 213.88it/s]\n",
      "Epoch 39/40 Validating: 100%|██████████| 27/27 [00:00<00:00, 473.33it/s]\n"
     ]
    },
    {
     "name": "stdout",
     "output_type": "stream",
     "text": [
      "Epoch 39/40: Train Loss: 0.0197, Val Loss: 0.0330\n"
     ]
    },
    {
     "name": "stderr",
     "output_type": "stream",
     "text": [
      "Epoch 40/40 Training: 100%|██████████| 217/217 [00:01<00:00, 212.93it/s]\n",
      "Epoch 40/40 Validating: 100%|██████████| 27/27 [00:00<00:00, 513.13it/s]"
     ]
    },
    {
     "name": "stdout",
     "output_type": "stream",
     "text": [
      "Epoch 40/40: Train Loss: 0.0197, Val Loss: 0.0326\n",
      "Training complete. models saved to models/\n"
     ]
    },
    {
     "name": "stderr",
     "output_type": "stream",
     "text": [
      "\n"
     ]
    }
   ],
   "source": [
    "model = cnn_lstm_model\n",
    "optimizer = torch.optim.Adam(model.parameters(), lr=1e-3)\n",
    "loss_fn = nn.L1Loss()\n",
    "\n",
    "print(\"\\nStarting model training...\")\n",
    "train_model(\n",
    "    model=model,\n",
    "    optimizer=optimizer,\n",
    "    loss_fn=loss_fn,\n",
    "    train_loader=train_loader,\n",
    "    val_loader=val_loader,\n",
    "    epochs=40,\n",
    "    device=device,\n",
    "    name='cnn_lstm_7f_rec'\n",
    ")\n",
    "\n",
    "cnn_lstm_model=model"
   ]
  }
 ],
 "metadata": {
  "kernelspec": {
   "display_name": "torch",
   "language": "python",
   "name": "python3"
  },
  "language_info": {
   "codemirror_mode": {
    "name": "ipython",
    "version": 3
   },
   "file_extension": ".py",
   "mimetype": "text/x-python",
   "name": "python",
   "nbconvert_exporter": "python",
   "pygments_lexer": "ipython3",
   "version": "3.10.16"
  }
 },
 "nbformat": 4,
 "nbformat_minor": 5
}
