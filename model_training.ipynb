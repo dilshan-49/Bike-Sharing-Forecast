{
 "cells": [
  {
   "cell_type": "markdown",
   "id": "7ac041c7",
   "metadata": {},
   "source": [
    "# Model Training"
   ]
  },
  {
   "cell_type": "markdown",
   "id": "6c9464b4",
   "metadata": {},
   "source": [
    "We will first load the data and scale it"
   ]
  },
  {
   "cell_type": "code",
   "execution_count": 1,
   "id": "9c12e314",
   "metadata": {},
   "outputs": [],
   "source": [
    "import pandas as pd\n",
    "from sklearn.preprocessing import MinMaxScaler\n",
    "\n",
    "df_train = pd.read_csv('./dataset/train.csv')\n",
    "df_val = pd.read_csv('./dataset/val.csv')\n",
    "df_test = pd.read_csv('./dataset/test.csv')\n",
    "\n",
    "scaler_r = MinMaxScaler()\n",
    "scaler_c = MinMaxScaler()\n",
    "\n",
    "scaler_r.fit(df_test[['registered']])\n",
    "scaler_c.fit(df_test[['casual']])\n",
    "\n",
    "\n",
    "df_train['registered_s'] = scaler_r.transform(df_train[['registered']])\n",
    "df_val['registered_s'] = scaler_r.transform(df_val[['registered']])\n",
    "\n",
    "df_train['casual_s'] = scaler_c.transform(df_train[['casual']])\n",
    "df_val['casual_s'] = scaler_c.transform(df_val[['casual']])"
   ]
  },
  {
   "cell_type": "code",
   "execution_count": 2,
   "id": "d1b60d15",
   "metadata": {},
   "outputs": [
    {
     "data": {
      "text/html": [
       "<div>\n",
       "<style scoped>\n",
       "    .dataframe tbody tr th:only-of-type {\n",
       "        vertical-align: middle;\n",
       "    }\n",
       "\n",
       "    .dataframe tbody tr th {\n",
       "        vertical-align: top;\n",
       "    }\n",
       "\n",
       "    .dataframe thead th {\n",
       "        text-align: right;\n",
       "    }\n",
       "</style>\n",
       "<table border=\"1\" class=\"dataframe\">\n",
       "  <thead>\n",
       "    <tr style=\"text-align: right;\">\n",
       "      <th></th>\n",
       "      <th>Unnamed: 0</th>\n",
       "      <th>ds</th>\n",
       "      <th>season</th>\n",
       "      <th>workingday</th>\n",
       "      <th>weathersit</th>\n",
       "      <th>temp</th>\n",
       "      <th>hum</th>\n",
       "      <th>casual</th>\n",
       "      <th>registered</th>\n",
       "      <th>unique_id</th>\n",
       "      <th>day_sin</th>\n",
       "      <th>day_cos</th>\n",
       "      <th>week_sin</th>\n",
       "      <th>week_cos</th>\n",
       "      <th>registered_s</th>\n",
       "      <th>casual_s</th>\n",
       "    </tr>\n",
       "  </thead>\n",
       "  <tbody>\n",
       "    <tr>\n",
       "      <th>0</th>\n",
       "      <td>0</td>\n",
       "      <td>2011-01-01 00:00:00</td>\n",
       "      <td>1</td>\n",
       "      <td>0</td>\n",
       "      <td>1</td>\n",
       "      <td>0.24</td>\n",
       "      <td>0.81</td>\n",
       "      <td>3</td>\n",
       "      <td>13</td>\n",
       "      <td>bike_sharing</td>\n",
       "      <td>0.000000</td>\n",
       "      <td>1.000000</td>\n",
       "      <td>-0.781831</td>\n",
       "      <td>0.62349</td>\n",
       "      <td>0.014840</td>\n",
       "      <td>0.008646</td>\n",
       "    </tr>\n",
       "    <tr>\n",
       "      <th>1</th>\n",
       "      <td>1</td>\n",
       "      <td>2011-01-01 01:00:00</td>\n",
       "      <td>1</td>\n",
       "      <td>0</td>\n",
       "      <td>1</td>\n",
       "      <td>0.22</td>\n",
       "      <td>0.80</td>\n",
       "      <td>8</td>\n",
       "      <td>32</td>\n",
       "      <td>bike_sharing</td>\n",
       "      <td>0.258819</td>\n",
       "      <td>0.965926</td>\n",
       "      <td>-0.781831</td>\n",
       "      <td>0.62349</td>\n",
       "      <td>0.036530</td>\n",
       "      <td>0.023055</td>\n",
       "    </tr>\n",
       "    <tr>\n",
       "      <th>2</th>\n",
       "      <td>2</td>\n",
       "      <td>2011-01-01 02:00:00</td>\n",
       "      <td>1</td>\n",
       "      <td>0</td>\n",
       "      <td>1</td>\n",
       "      <td>0.22</td>\n",
       "      <td>0.80</td>\n",
       "      <td>5</td>\n",
       "      <td>27</td>\n",
       "      <td>bike_sharing</td>\n",
       "      <td>0.500000</td>\n",
       "      <td>0.866025</td>\n",
       "      <td>-0.781831</td>\n",
       "      <td>0.62349</td>\n",
       "      <td>0.030822</td>\n",
       "      <td>0.014409</td>\n",
       "    </tr>\n",
       "    <tr>\n",
       "      <th>3</th>\n",
       "      <td>3</td>\n",
       "      <td>2011-01-01 03:00:00</td>\n",
       "      <td>1</td>\n",
       "      <td>0</td>\n",
       "      <td>1</td>\n",
       "      <td>0.24</td>\n",
       "      <td>0.75</td>\n",
       "      <td>3</td>\n",
       "      <td>10</td>\n",
       "      <td>bike_sharing</td>\n",
       "      <td>0.707107</td>\n",
       "      <td>0.707107</td>\n",
       "      <td>-0.781831</td>\n",
       "      <td>0.62349</td>\n",
       "      <td>0.011416</td>\n",
       "      <td>0.008646</td>\n",
       "    </tr>\n",
       "    <tr>\n",
       "      <th>4</th>\n",
       "      <td>4</td>\n",
       "      <td>2011-01-01 04:00:00</td>\n",
       "      <td>1</td>\n",
       "      <td>0</td>\n",
       "      <td>1</td>\n",
       "      <td>0.24</td>\n",
       "      <td>0.75</td>\n",
       "      <td>0</td>\n",
       "      <td>1</td>\n",
       "      <td>bike_sharing</td>\n",
       "      <td>0.866025</td>\n",
       "      <td>0.500000</td>\n",
       "      <td>-0.781831</td>\n",
       "      <td>0.62349</td>\n",
       "      <td>0.001142</td>\n",
       "      <td>0.000000</td>\n",
       "    </tr>\n",
       "  </tbody>\n",
       "</table>\n",
       "</div>"
      ],
      "text/plain": [
       "   Unnamed: 0                   ds  season  workingday  weathersit  temp  \\\n",
       "0           0  2011-01-01 00:00:00       1           0           1  0.24   \n",
       "1           1  2011-01-01 01:00:00       1           0           1  0.22   \n",
       "2           2  2011-01-01 02:00:00       1           0           1  0.22   \n",
       "3           3  2011-01-01 03:00:00       1           0           1  0.24   \n",
       "4           4  2011-01-01 04:00:00       1           0           1  0.24   \n",
       "\n",
       "    hum  casual  registered     unique_id   day_sin   day_cos  week_sin  \\\n",
       "0  0.81       3          13  bike_sharing  0.000000  1.000000 -0.781831   \n",
       "1  0.80       8          32  bike_sharing  0.258819  0.965926 -0.781831   \n",
       "2  0.80       5          27  bike_sharing  0.500000  0.866025 -0.781831   \n",
       "3  0.75       3          10  bike_sharing  0.707107  0.707107 -0.781831   \n",
       "4  0.75       0           1  bike_sharing  0.866025  0.500000 -0.781831   \n",
       "\n",
       "   week_cos  registered_s  casual_s  \n",
       "0   0.62349      0.014840  0.008646  \n",
       "1   0.62349      0.036530  0.023055  \n",
       "2   0.62349      0.030822  0.014409  \n",
       "3   0.62349      0.011416  0.008646  \n",
       "4   0.62349      0.001142  0.000000  "
      ]
     },
     "execution_count": 2,
     "metadata": {},
     "output_type": "execute_result"
    }
   ],
   "source": [
    "df_train.head()"
   ]
  },
  {
   "cell_type": "code",
   "execution_count": 3,
   "id": "65965dc1",
   "metadata": {},
   "outputs": [
    {
     "data": {
      "text/html": [
       "<div>\n",
       "<style scoped>\n",
       "    .dataframe tbody tr th:only-of-type {\n",
       "        vertical-align: middle;\n",
       "    }\n",
       "\n",
       "    .dataframe tbody tr th {\n",
       "        vertical-align: top;\n",
       "    }\n",
       "\n",
       "    .dataframe thead th {\n",
       "        text-align: right;\n",
       "    }\n",
       "</style>\n",
       "<table border=\"1\" class=\"dataframe\">\n",
       "  <thead>\n",
       "    <tr style=\"text-align: right;\">\n",
       "      <th></th>\n",
       "      <th>ds</th>\n",
       "      <th>season</th>\n",
       "      <th>workingday</th>\n",
       "      <th>weathersit</th>\n",
       "      <th>temp</th>\n",
       "      <th>hum</th>\n",
       "      <th>unique_id</th>\n",
       "      <th>day_sin</th>\n",
       "      <th>day_cos</th>\n",
       "      <th>week_sin</th>\n",
       "      <th>week_cos</th>\n",
       "      <th>registered_s</th>\n",
       "      <th>casual_s</th>\n",
       "    </tr>\n",
       "  </thead>\n",
       "  <tbody>\n",
       "    <tr>\n",
       "      <th>0</th>\n",
       "      <td>2011-01-01 00:00:00</td>\n",
       "      <td>1</td>\n",
       "      <td>0</td>\n",
       "      <td>1</td>\n",
       "      <td>0.24</td>\n",
       "      <td>0.81</td>\n",
       "      <td>bike_sharing</td>\n",
       "      <td>0.000000</td>\n",
       "      <td>1.000000</td>\n",
       "      <td>-0.781831</td>\n",
       "      <td>0.62349</td>\n",
       "      <td>0.014840</td>\n",
       "      <td>0.008646</td>\n",
       "    </tr>\n",
       "    <tr>\n",
       "      <th>1</th>\n",
       "      <td>2011-01-01 01:00:00</td>\n",
       "      <td>1</td>\n",
       "      <td>0</td>\n",
       "      <td>1</td>\n",
       "      <td>0.22</td>\n",
       "      <td>0.80</td>\n",
       "      <td>bike_sharing</td>\n",
       "      <td>0.258819</td>\n",
       "      <td>0.965926</td>\n",
       "      <td>-0.781831</td>\n",
       "      <td>0.62349</td>\n",
       "      <td>0.036530</td>\n",
       "      <td>0.023055</td>\n",
       "    </tr>\n",
       "    <tr>\n",
       "      <th>2</th>\n",
       "      <td>2011-01-01 02:00:00</td>\n",
       "      <td>1</td>\n",
       "      <td>0</td>\n",
       "      <td>1</td>\n",
       "      <td>0.22</td>\n",
       "      <td>0.80</td>\n",
       "      <td>bike_sharing</td>\n",
       "      <td>0.500000</td>\n",
       "      <td>0.866025</td>\n",
       "      <td>-0.781831</td>\n",
       "      <td>0.62349</td>\n",
       "      <td>0.030822</td>\n",
       "      <td>0.014409</td>\n",
       "    </tr>\n",
       "    <tr>\n",
       "      <th>3</th>\n",
       "      <td>2011-01-01 03:00:00</td>\n",
       "      <td>1</td>\n",
       "      <td>0</td>\n",
       "      <td>1</td>\n",
       "      <td>0.24</td>\n",
       "      <td>0.75</td>\n",
       "      <td>bike_sharing</td>\n",
       "      <td>0.707107</td>\n",
       "      <td>0.707107</td>\n",
       "      <td>-0.781831</td>\n",
       "      <td>0.62349</td>\n",
       "      <td>0.011416</td>\n",
       "      <td>0.008646</td>\n",
       "    </tr>\n",
       "    <tr>\n",
       "      <th>4</th>\n",
       "      <td>2011-01-01 04:00:00</td>\n",
       "      <td>1</td>\n",
       "      <td>0</td>\n",
       "      <td>1</td>\n",
       "      <td>0.24</td>\n",
       "      <td>0.75</td>\n",
       "      <td>bike_sharing</td>\n",
       "      <td>0.866025</td>\n",
       "      <td>0.500000</td>\n",
       "      <td>-0.781831</td>\n",
       "      <td>0.62349</td>\n",
       "      <td>0.001142</td>\n",
       "      <td>0.000000</td>\n",
       "    </tr>\n",
       "  </tbody>\n",
       "</table>\n",
       "</div>"
      ],
      "text/plain": [
       "                    ds  season  workingday  weathersit  temp   hum  \\\n",
       "0  2011-01-01 00:00:00       1           0           1  0.24  0.81   \n",
       "1  2011-01-01 01:00:00       1           0           1  0.22  0.80   \n",
       "2  2011-01-01 02:00:00       1           0           1  0.22  0.80   \n",
       "3  2011-01-01 03:00:00       1           0           1  0.24  0.75   \n",
       "4  2011-01-01 04:00:00       1           0           1  0.24  0.75   \n",
       "\n",
       "      unique_id   day_sin   day_cos  week_sin  week_cos  registered_s  \\\n",
       "0  bike_sharing  0.000000  1.000000 -0.781831   0.62349      0.014840   \n",
       "1  bike_sharing  0.258819  0.965926 -0.781831   0.62349      0.036530   \n",
       "2  bike_sharing  0.500000  0.866025 -0.781831   0.62349      0.030822   \n",
       "3  bike_sharing  0.707107  0.707107 -0.781831   0.62349      0.011416   \n",
       "4  bike_sharing  0.866025  0.500000 -0.781831   0.62349      0.001142   \n",
       "\n",
       "   casual_s  \n",
       "0  0.008646  \n",
       "1  0.023055  \n",
       "2  0.014409  \n",
       "3  0.008646  \n",
       "4  0.000000  "
      ]
     },
     "execution_count": 3,
     "metadata": {},
     "output_type": "execute_result"
    }
   ],
   "source": [
    "df_train.drop(['Unnamed: 0','casual','registered'],axis=1,inplace=True)\n",
    "df_val.drop(['Unnamed: 0','casual','registered'],axis=1,inplace=True)\n",
    "\n",
    "df_train.head()"
   ]
  },
  {
   "cell_type": "markdown",
   "id": "c9af636c",
   "metadata": {},
   "source": [
    "Now Lets create the dataset from the tabular data to work with our model"
   ]
  },
  {
   "cell_type": "code",
   "execution_count": 4,
   "id": "4e15df62",
   "metadata": {},
   "outputs": [],
   "source": [
    "import numpy as np\n",
    "\n",
    "\n",
    "def create_dataset(data, feature_columns, target_columns, lookback_window, horizon, shift):\n",
    "    \"\"\"\n",
    "    Transforms a time series DataFrame into input-target pairs for a deep learning model.\n",
    "\n",
    "    Args:\n",
    "        data (pd.DataFrame): The input DataFrame.\n",
    "        feature_columns (list): List of column names to use as input features (X).\n",
    "        target_columns (list): List of column names to use as target variables (Y).\n",
    "        lookback_window (int): The number of past time steps to use as input (X).\n",
    "        horizon (int): The number of future time steps to predict (Y).\n",
    "        shift (int): The number of steps to shift the window for each new sample.\n",
    "\n",
    "    Returns:\n",
    "        tuple: A tuple containing two NumPy arrays, X (inputs) and Y (targets).\n",
    "    \"\"\"\n",
    "    X, Y = [], []\n",
    "    for i in range(0, len(data) - lookback_window - horizon + 1, shift):\n",
    "        # Extract the input features (X) for the current window\n",
    "        x_start = i\n",
    "        x_end = i + lookback_window\n",
    "        X.append(data.iloc[x_start:x_end][feature_columns].values)\n",
    "\n",
    "        # Extract the target variables (Y) for the forecast horizon\n",
    "        y_start = i + lookback_window\n",
    "        y_end = y_start + horizon\n",
    "        Y.append(data.iloc[y_start:y_end][target_columns].values)\n",
    "    \n",
    "    return np.array(X), np.array(Y)\n"
   ]
  },
  {
   "cell_type": "markdown",
   "id": "c411ea66",
   "metadata": {},
   "source": [
    "I am using a yaml file to load some parameters as I will need to access these across several notebooks"
   ]
  },
  {
   "cell_type": "code",
   "execution_count": 5,
   "id": "d1e5b768",
   "metadata": {},
   "outputs": [],
   "source": [
    "import yaml\n",
    "\n",
    "def load_config(filepath):\n",
    "    \"\"\"\n",
    "    Loads a YAML configuration file from the specified filepath.\n",
    "\n",
    "    Args:\n",
    "        filepath (str): The path to the YAML file.\n",
    "\n",
    "    Returns:\n",
    "        dict: The configuration as a dictionary.\n",
    "    \"\"\"\n",
    "    try:\n",
    "        with open(filepath, 'r') as file:\n",
    "            config = yaml.safe_load(file)\n",
    "        return config\n",
    "    except FileNotFoundError:\n",
    "        print(f\"Error: The file at {filepath} was not found.\")\n",
    "        return None\n",
    "    except yaml.YAMLError as exc:\n",
    "        print(f\"Error parsing YAML file: {exc}\")\n",
    "        return None\n",
    "\n",
    "# Load the configuration from the YAML file\n",
    "config_file = 'config.yaml'\n",
    "model_config = load_config(config_file)"
   ]
  },
  {
   "cell_type": "code",
   "execution_count": 6,
   "id": "332e9f01",
   "metadata": {},
   "outputs": [],
   "source": [
    "#  Define key parameters\n",
    "LOOKBACK_WINDOW = model_config['dataset']['lookback_window']  \n",
    "FORECAST_HORIZON = model_config['dataset']['forecast_horizon'] \n",
    "SHIFT = model_config['dataset']['shift']          \n",
    "# ----------------------------------------------------\n",
    "# The columns model use to learn the patterns.\n",
    "\n",
    "feature_columns = model_config['data']['feature_columns']\n",
    "\n",
    "# The columns model will try to predict.\n",
    "target_columns = model_config['data']['target_columns']\n",
    "\n"
   ]
  },
  {
   "cell_type": "markdown",
   "id": "70a75c73",
   "metadata": {},
   "source": [
    "Lets' first create the training dataset and have a look at it"
   ]
  },
  {
   "cell_type": "code",
   "execution_count": 7,
   "id": "b0c6e3a6",
   "metadata": {},
   "outputs": [
    {
     "name": "stdout",
     "output_type": "stream",
     "text": [
      "Shape of Input (X): (13735, 168, 7)\n",
      "Shape of Target (Y): (13735, 1, 2)\n"
     ]
    }
   ],
   "source": [
    "X_train, Y_train = create_dataset(df_train, feature_columns, target_columns, LOOKBACK_WINDOW, FORECAST_HORIZON, SHIFT)\n",
    "X_val, Y_val = create_dataset(df_val, feature_columns, target_columns, LOOKBACK_WINDOW, FORECAST_HORIZON, SHIFT)\n",
    "\n",
    "\n",
    "print(f\"Shape of Input (X): {X_train.shape}\")       # shape will be in the following order\n",
    "print(f\"Shape of Target (Y): {Y_train.shape}\")      # [Number of Samples, Window, Number of Features]\n"
   ]
  },
  {
   "cell_type": "markdown",
   "id": "c020201f",
   "metadata": {},
   "source": [
    "Now Let's create dataloader which will serve the above created data to our models for training and testing."
   ]
  },
  {
   "cell_type": "code",
   "execution_count": 8,
   "id": "28e8aa44",
   "metadata": {},
   "outputs": [],
   "source": [
    "import torch\n",
    "from torch.utils.data import DataLoader, TensorDataset\n",
    "\n",
    "BATCH_SIZE = model_config['dataset']['batch_size']\n",
    "\n",
    "# Convert NumPy arrays to PyTorch Tensors\n",
    "X_train = torch.Tensor(X_train)\n",
    "y_train = torch.Tensor(Y_train)\n",
    "X_val = torch.Tensor(X_val)\n",
    "y_val = torch.Tensor(Y_val)\n",
    "\n",
    "# Create TensorDatasets and DataLoaders\n",
    "train_dataset = TensorDataset(X_train, y_train)\n",
    "val_dataset = TensorDataset(X_val, y_val)\n",
    "\n",
    "train_loader = DataLoader(train_dataset, batch_size=64, shuffle=False)\n",
    "val_loader = DataLoader(val_dataset, batch_size=64, shuffle=False)\n"
   ]
  },
  {
   "cell_type": "markdown",
   "id": "d32e1604",
   "metadata": {},
   "source": [
    "## Designing the model\n",
    "\n",
    "Now let's Design our model.  \n",
    "We will create two models. one solely based on LSTM architecture and another one combining CNN with LSTM.\n",
    "I have saved this same script on model.py so I can access these models across the notebooks.\n"
   ]
  },
  {
   "cell_type": "code",
   "execution_count": null,
   "id": "4f61dc8b",
   "metadata": {},
   "outputs": [],
   "source": [
    "import torch.nn as nn\n",
    "\n",
    "class LSTMForecaster(nn.Module):\n",
    "    def __init__(self, num_features, hidden_size, num_layers, output_size):\n",
    "        super(LSTMForecaster,self).__init__()\n",
    "\n",
    "        self.num_features = num_features\n",
    "        self.hidden_size = hidden_size\n",
    "        self.num_layer = num_layers\n",
    "        self.output_size = output_size\n",
    "\n",
    "        self.lstm = nn.LSTM(\n",
    "            input_size=num_features,\n",
    "            hidden_size=hidden_size,\n",
    "            num_layers=num_layers,\n",
    "            batch_first=True\n",
    "        )\n",
    "\n",
    "        self.fc = nn.Linear(hidden_size, output_size)\n",
    "\n",
    "    def forward(self,x):\n",
    "        lstm_out,(h_n,c_n) = self.lstm(x)\n",
    "        out = lstm_out[:,-1,:]  # Getting the output for the final step.\n",
    "        out = self.fc(out)\n",
    "        out = out.view(x.size(0),-1,2) #changing the shape of the output to (batch_size,horizen,targets)\n",
    "        return out\n",
    "    \n",
    "\n",
    "class CNN_LSTMForecaster(nn.Module):\n",
    "    def __init__(self, num_features, hidden_size, num_layers, output_size, cnn_filters=64, kernel_size=7):\n",
    "        super(CNN_LSTMForecaster, self).__init__()\n",
    "        \n",
    "        self.num_features = num_features\n",
    "        self.hidden_size = hidden_size\n",
    "        self.num_layers = num_layers\n",
    "        self.output_size = output_size\n",
    "        self.cnn_filters = cnn_filters\n",
    "        self.kernel_size = kernel_size\n",
    "\n",
    "        self.cnn = nn.Sequential(\n",
    "            # Input shape: (batch_size, num_features, lookback_window)\n",
    "            nn.Conv1d(\n",
    "                in_channels=num_features, \n",
    "                out_channels=self.cnn_filters, \n",
    "                kernel_size=self.kernel_size,\n",
    "                padding='same'\n",
    "            ),\n",
    "            nn.ReLU(),\n",
    "            nn.MaxPool1d(kernel_size=2)\n",
    "        )\n",
    "\n",
    "        self.lstm = nn.LSTM(\n",
    "            input_size=self.cnn_filters,\n",
    "            hidden_size=self.hidden_size,\n",
    "            num_layers=self.num_layers,\n",
    "            batch_first=True\n",
    "        )\n",
    "\n",
    "        self.fc = nn.Linear(self.hidden_size, self.output_size)\n",
    "\n",
    "    def forward(self,x):\n",
    "\n",
    "        #shape of x is (batch_size, lookback_window, num_features)\n",
    "        x = x.permute(0, 2, 1) # for the convolution we need shape of x to be (batch_size, num_features, lookback_window)\n",
    "        cnn_out = self.cnn(x)\n",
    "        cnn_out = cnn_out.permute(0, 2, 1) #changing the shape back for LSTM\n",
    "        lstm_out, (h_n, c_n) = self.lstm(cnn_out)\n",
    "        out = lstm_out[:,-1,:]  # Getting the output for the final step.\n",
    "        out = self.fc(out)\n",
    "        out = out.view(x.size(0), -1, 2)\n",
    "        \n",
    "        return out"
   ]
  },
  {
   "cell_type": "markdown",
   "id": "63d1a35b",
   "metadata": {},
   "source": [
    "Let's initialize the both models."
   ]
  },
  {
   "cell_type": "code",
   "execution_count": 10,
   "id": "883c3adc",
   "metadata": {},
   "outputs": [],
   "source": [
    "import torch\n",
    "import torch.nn as nn\n",
    "\n",
    "BATCH_SIZE = model_config['dataset']['batch_size']\n",
    "LOOKBACK_WINDOW = model_config['dataset']['lookback_window']  \n",
    "NUM_FEATURES = model_config['model']['num_features']\n",
    "FORECAST_HORIZON = model_config['dataset']['forecast_horizon'] \n",
    "NUM_TARGETS = model_config['model']['num_targets']\n",
    "\n",
    "\n",
    "device = 'cuda' if torch.cuda.is_available() else 'cpu'\n",
    "\n",
    "lstm_model = LSTMForecaster(\n",
    "        num_features=NUM_FEATURES,\n",
    "        hidden_size=64,\n",
    "        num_layers=1,\n",
    "        output_size=FORECAST_HORIZON * NUM_TARGETS\n",
    "    )\n",
    "\n",
    "cnn_lstm_model = CNN_LSTMForecaster(\n",
    "        num_features=NUM_FEATURES,\n",
    "        hidden_size=64,\n",
    "        num_layers=1,\n",
    "        output_size=FORECAST_HORIZON * NUM_TARGETS\n",
    "    )"
   ]
  },
  {
   "cell_type": "markdown",
   "id": "29034a16",
   "metadata": {},
   "source": [
    "with everything ready, let's train our models"
   ]
  },
  {
   "cell_type": "code",
   "execution_count": 11,
   "id": "c9926cf7",
   "metadata": {},
   "outputs": [],
   "source": [
    "from tqdm import tqdm\n",
    "\n",
    "def train_model(model, optimizer, loss_fn, train_loader, val_loader, epochs=20, device='cpu', name=''):\n",
    "    \"\"\"\n",
    "    Trains and validates a time series forecasting model.\n",
    "\n",
    "    Args:\n",
    "        model (nn.Module): The forecasting model to train.\n",
    "        optimizer (torch.optim.Optimizer): The optimizer to use for training.\n",
    "        loss_fn (nn.Module): The loss function (e.g., MSELoss).\n",
    "        train_loader (DataLoader): DataLoader for the training data.\n",
    "        val_loader (DataLoader): DataLoader for the validation data.\n",
    "        epochs (int): The number of training epochs.\n",
    "        device (str): The device to run the training on ('cpu' or 'cuda').\n",
    "    \"\"\"\n",
    "    best_val_loss = float('inf')\n",
    "    best_model_state = None\n",
    "\n",
    "    model.to(device)\n",
    "\n",
    "    for epoch in range(epochs):\n",
    "        # --- Training Loop ---\n",
    "        model.train()\n",
    "        train_loss = 0.0\n",
    "        \n",
    "        for batch in tqdm(train_loader, desc=f\"Epoch {epoch+1}/{epochs} Training\"):\n",
    "            optimizer.zero_grad() # Reset gradients\n",
    "            \n",
    "            inputs,targets = batch\n",
    "            inputs=inputs.to(device)\n",
    "            targets=targets.to(device)\n",
    "\n",
    "            output = model(inputs)\n",
    "            \n",
    "            loss = loss_fn(output, targets)\n",
    "            loss.backward()\n",
    "            optimizer.step()\n",
    "            \n",
    "            train_loss += loss.item() * targets.size(0)\n",
    "        \n",
    "        avg_train_loss = train_loss / len(train_loader.dataset)\n",
    "\n",
    "        # --- Validation Loop ---\n",
    "        model.eval()\n",
    "        val_loss = 0.0\n",
    "        \n",
    "        with torch.no_grad():\n",
    "            for batch in tqdm(val_loader, desc=f\"Epoch {epoch+1}/{epochs} Validating\"):\n",
    "                optimizer.zero_grad() # Reset gradients\n",
    "                \n",
    "                inputs,targets = batch\n",
    "                inputs=inputs.to(device)\n",
    "                targets=targets.to(device)\n",
    "\n",
    "                output = model(inputs)\n",
    "                \n",
    "                loss = loss_fn(output, targets)\n",
    "                \n",
    "                val_loss += loss.item() * targets.size(0)\n",
    "\n",
    "        # Calculate average validation loss for the epoch\n",
    "        avg_val_loss = val_loss / len(val_loader.dataset)\n",
    "        \n",
    "        print(f\"Epoch {epoch+1}/{epochs}: Train Loss: {avg_train_loss:.4f}, Val Loss: {avg_val_loss:.4f}\")\n",
    "\n",
    "        # Check if current validation loss is the best so far\n",
    "        if avg_val_loss < best_val_loss:\n",
    "            best_val_loss = avg_val_loss\n",
    "            # Save the model state dictionary\n",
    "            best_model_state = model.state_dict()\n",
    "            print(\"Validation loss improved. Saving best model state.\")\n",
    "    \n",
    "    if best_model_state:\n",
    "        torch.save(best_model_state, './models/'+name+'_best.pth') # Save the best model\n",
    "        print(\"Training complete. models saved to models/\")\n",
    "    else:\n",
    "        print(\"Training complete. Could not save best model state.\")\n",
    "    "
   ]
  },
  {
   "cell_type": "code",
   "execution_count": 12,
   "id": "42af329d",
   "metadata": {},
   "outputs": [
    {
     "name": "stdout",
     "output_type": "stream",
     "text": [
      "\n",
      "Starting model training...\n"
     ]
    },
    {
     "name": "stderr",
     "output_type": "stream",
     "text": [
      "Epoch 1/40 Training: 100%|██████████| 215/215 [00:01<00:00, 182.66it/s]\n",
      "Epoch 1/40 Validating: 100%|██████████| 25/25 [00:00<00:00, 466.61it/s]\n"
     ]
    },
    {
     "name": "stdout",
     "output_type": "stream",
     "text": [
      "Epoch 1/40: Train Loss: 0.0578, Val Loss: 0.0752\n",
      "Validation loss improved. Saving best model state.\n"
     ]
    },
    {
     "name": "stderr",
     "output_type": "stream",
     "text": [
      "Epoch 2/40 Training: 100%|██████████| 215/215 [00:01<00:00, 208.49it/s]\n",
      "Epoch 2/40 Validating: 100%|██████████| 25/25 [00:00<00:00, 461.18it/s]\n"
     ]
    },
    {
     "name": "stdout",
     "output_type": "stream",
     "text": [
      "Epoch 2/40: Train Loss: 0.0493, Val Loss: 0.0640\n",
      "Validation loss improved. Saving best model state.\n"
     ]
    },
    {
     "name": "stderr",
     "output_type": "stream",
     "text": [
      "Epoch 3/40 Training: 100%|██████████| 215/215 [00:01<00:00, 210.64it/s]\n",
      "Epoch 3/40 Validating: 100%|██████████| 25/25 [00:00<00:00, 460.59it/s]\n"
     ]
    },
    {
     "name": "stdout",
     "output_type": "stream",
     "text": [
      "Epoch 3/40: Train Loss: 0.0428, Val Loss: 0.0581\n",
      "Validation loss improved. Saving best model state.\n"
     ]
    },
    {
     "name": "stderr",
     "output_type": "stream",
     "text": [
      "Epoch 4/40 Training: 100%|██████████| 215/215 [00:01<00:00, 197.43it/s]\n",
      "Epoch 4/40 Validating: 100%|██████████| 25/25 [00:00<00:00, 468.64it/s]\n"
     ]
    },
    {
     "name": "stdout",
     "output_type": "stream",
     "text": [
      "Epoch 4/40: Train Loss: 0.0384, Val Loss: 0.0521\n",
      "Validation loss improved. Saving best model state.\n"
     ]
    },
    {
     "name": "stderr",
     "output_type": "stream",
     "text": [
      "Epoch 5/40 Training: 100%|██████████| 215/215 [00:01<00:00, 212.20it/s]\n",
      "Epoch 5/40 Validating: 100%|██████████| 25/25 [00:00<00:00, 453.00it/s]\n"
     ]
    },
    {
     "name": "stdout",
     "output_type": "stream",
     "text": [
      "Epoch 5/40: Train Loss: 0.0347, Val Loss: 0.0465\n",
      "Validation loss improved. Saving best model state.\n"
     ]
    },
    {
     "name": "stderr",
     "output_type": "stream",
     "text": [
      "Epoch 6/40 Training: 100%|██████████| 215/215 [00:01<00:00, 213.52it/s]\n",
      "Epoch 6/40 Validating: 100%|██████████| 25/25 [00:00<00:00, 449.76it/s]\n"
     ]
    },
    {
     "name": "stdout",
     "output_type": "stream",
     "text": [
      "Epoch 6/40: Train Loss: 0.0319, Val Loss: 0.0418\n",
      "Validation loss improved. Saving best model state.\n"
     ]
    },
    {
     "name": "stderr",
     "output_type": "stream",
     "text": [
      "Epoch 7/40 Training: 100%|██████████| 215/215 [00:00<00:00, 231.79it/s]\n",
      "Epoch 7/40 Validating: 100%|██████████| 25/25 [00:00<00:00, 550.25it/s]\n"
     ]
    },
    {
     "name": "stdout",
     "output_type": "stream",
     "text": [
      "Epoch 7/40: Train Loss: 0.0298, Val Loss: 0.0384\n",
      "Validation loss improved. Saving best model state.\n"
     ]
    },
    {
     "name": "stderr",
     "output_type": "stream",
     "text": [
      "Epoch 8/40 Training: 100%|██████████| 215/215 [00:00<00:00, 259.30it/s]\n",
      "Epoch 8/40 Validating: 100%|██████████| 25/25 [00:00<00:00, 481.39it/s]\n"
     ]
    },
    {
     "name": "stdout",
     "output_type": "stream",
     "text": [
      "Epoch 8/40: Train Loss: 0.0276, Val Loss: 0.0357\n",
      "Validation loss improved. Saving best model state.\n"
     ]
    },
    {
     "name": "stderr",
     "output_type": "stream",
     "text": [
      "Epoch 9/40 Training: 100%|██████████| 215/215 [00:00<00:00, 251.85it/s]\n",
      "Epoch 9/40 Validating: 100%|██████████| 25/25 [00:00<00:00, 401.23it/s]\n"
     ]
    },
    {
     "name": "stdout",
     "output_type": "stream",
     "text": [
      "Epoch 9/40: Train Loss: 0.0261, Val Loss: 0.0354\n",
      "Validation loss improved. Saving best model state.\n"
     ]
    },
    {
     "name": "stderr",
     "output_type": "stream",
     "text": [
      "Epoch 10/40 Training: 100%|██████████| 215/215 [00:00<00:00, 240.89it/s]\n",
      "Epoch 10/40 Validating: 100%|██████████| 25/25 [00:00<00:00, 569.81it/s]\n"
     ]
    },
    {
     "name": "stdout",
     "output_type": "stream",
     "text": [
      "Epoch 10/40: Train Loss: 0.0250, Val Loss: 0.0340\n",
      "Validation loss improved. Saving best model state.\n"
     ]
    },
    {
     "name": "stderr",
     "output_type": "stream",
     "text": [
      "Epoch 11/40 Training: 100%|██████████| 215/215 [00:00<00:00, 240.48it/s]\n",
      "Epoch 11/40 Validating: 100%|██████████| 25/25 [00:00<00:00, 544.53it/s]\n"
     ]
    },
    {
     "name": "stdout",
     "output_type": "stream",
     "text": [
      "Epoch 11/40: Train Loss: 0.0243, Val Loss: 0.0326\n",
      "Validation loss improved. Saving best model state.\n"
     ]
    },
    {
     "name": "stderr",
     "output_type": "stream",
     "text": [
      "Epoch 12/40 Training: 100%|██████████| 215/215 [00:00<00:00, 248.85it/s]\n",
      "Epoch 12/40 Validating: 100%|██████████| 25/25 [00:00<00:00, 566.89it/s]\n"
     ]
    },
    {
     "name": "stdout",
     "output_type": "stream",
     "text": [
      "Epoch 12/40: Train Loss: 0.0239, Val Loss: 0.0323\n",
      "Validation loss improved. Saving best model state.\n"
     ]
    },
    {
     "name": "stderr",
     "output_type": "stream",
     "text": [
      "Epoch 13/40 Training: 100%|██████████| 215/215 [00:00<00:00, 265.20it/s]\n",
      "Epoch 13/40 Validating: 100%|██████████| 25/25 [00:00<00:00, 549.62it/s]\n"
     ]
    },
    {
     "name": "stdout",
     "output_type": "stream",
     "text": [
      "Epoch 13/40: Train Loss: 0.0234, Val Loss: 0.0320\n",
      "Validation loss improved. Saving best model state.\n"
     ]
    },
    {
     "name": "stderr",
     "output_type": "stream",
     "text": [
      "Epoch 14/40 Training: 100%|██████████| 215/215 [00:00<00:00, 240.03it/s]\n",
      "Epoch 14/40 Validating: 100%|██████████| 25/25 [00:00<00:00, 605.28it/s]\n"
     ]
    },
    {
     "name": "stdout",
     "output_type": "stream",
     "text": [
      "Epoch 14/40: Train Loss: 0.0232, Val Loss: 0.0322\n"
     ]
    },
    {
     "name": "stderr",
     "output_type": "stream",
     "text": [
      "Epoch 15/40 Training: 100%|██████████| 215/215 [00:00<00:00, 272.37it/s]\n",
      "Epoch 15/40 Validating: 100%|██████████| 25/25 [00:00<00:00, 593.22it/s]\n"
     ]
    },
    {
     "name": "stdout",
     "output_type": "stream",
     "text": [
      "Epoch 15/40: Train Loss: 0.0229, Val Loss: 0.0320\n"
     ]
    },
    {
     "name": "stderr",
     "output_type": "stream",
     "text": [
      "Epoch 16/40 Training: 100%|██████████| 215/215 [00:00<00:00, 259.59it/s]\n",
      "Epoch 16/40 Validating: 100%|██████████| 25/25 [00:00<00:00, 547.70it/s]\n"
     ]
    },
    {
     "name": "stdout",
     "output_type": "stream",
     "text": [
      "Epoch 16/40: Train Loss: 0.0229, Val Loss: 0.0319\n",
      "Validation loss improved. Saving best model state.\n"
     ]
    },
    {
     "name": "stderr",
     "output_type": "stream",
     "text": [
      "Epoch 17/40 Training: 100%|██████████| 215/215 [00:00<00:00, 263.45it/s]\n",
      "Epoch 17/40 Validating: 100%|██████████| 25/25 [00:00<00:00, 529.66it/s]\n"
     ]
    },
    {
     "name": "stdout",
     "output_type": "stream",
     "text": [
      "Epoch 17/40: Train Loss: 0.0226, Val Loss: 0.0316\n",
      "Validation loss improved. Saving best model state.\n"
     ]
    },
    {
     "name": "stderr",
     "output_type": "stream",
     "text": [
      "Epoch 18/40 Training: 100%|██████████| 215/215 [00:00<00:00, 278.18it/s]\n",
      "Epoch 18/40 Validating: 100%|██████████| 25/25 [00:00<00:00, 452.08it/s]\n"
     ]
    },
    {
     "name": "stdout",
     "output_type": "stream",
     "text": [
      "Epoch 18/40: Train Loss: 0.0224, Val Loss: 0.0315\n",
      "Validation loss improved. Saving best model state.\n"
     ]
    },
    {
     "name": "stderr",
     "output_type": "stream",
     "text": [
      "Epoch 19/40 Training: 100%|██████████| 215/215 [00:00<00:00, 261.56it/s]\n",
      "Epoch 19/40 Validating: 100%|██████████| 25/25 [00:00<00:00, 567.02it/s]\n"
     ]
    },
    {
     "name": "stdout",
     "output_type": "stream",
     "text": [
      "Epoch 19/40: Train Loss: 0.0225, Val Loss: 0.0316\n"
     ]
    },
    {
     "name": "stderr",
     "output_type": "stream",
     "text": [
      "Epoch 20/40 Training: 100%|██████████| 215/215 [00:00<00:00, 244.93it/s]\n",
      "Epoch 20/40 Validating: 100%|██████████| 25/25 [00:00<00:00, 511.35it/s]\n"
     ]
    },
    {
     "name": "stdout",
     "output_type": "stream",
     "text": [
      "Epoch 20/40: Train Loss: 0.0223, Val Loss: 0.0313\n",
      "Validation loss improved. Saving best model state.\n"
     ]
    },
    {
     "name": "stderr",
     "output_type": "stream",
     "text": [
      "Epoch 21/40 Training: 100%|██████████| 215/215 [00:00<00:00, 246.64it/s]\n",
      "Epoch 21/40 Validating: 100%|██████████| 25/25 [00:00<00:00, 525.03it/s]\n"
     ]
    },
    {
     "name": "stdout",
     "output_type": "stream",
     "text": [
      "Epoch 21/40: Train Loss: 0.0222, Val Loss: 0.0320\n"
     ]
    },
    {
     "name": "stderr",
     "output_type": "stream",
     "text": [
      "Epoch 22/40 Training: 100%|██████████| 215/215 [00:00<00:00, 239.41it/s]\n",
      "Epoch 22/40 Validating: 100%|██████████| 25/25 [00:00<00:00, 591.29it/s]\n"
     ]
    },
    {
     "name": "stdout",
     "output_type": "stream",
     "text": [
      "Epoch 22/40: Train Loss: 0.0221, Val Loss: 0.0318\n"
     ]
    },
    {
     "name": "stderr",
     "output_type": "stream",
     "text": [
      "Epoch 23/40 Training: 100%|██████████| 215/215 [00:00<00:00, 254.31it/s]\n",
      "Epoch 23/40 Validating: 100%|██████████| 25/25 [00:00<00:00, 515.97it/s]\n"
     ]
    },
    {
     "name": "stdout",
     "output_type": "stream",
     "text": [
      "Epoch 23/40: Train Loss: 0.0220, Val Loss: 0.0319\n"
     ]
    },
    {
     "name": "stderr",
     "output_type": "stream",
     "text": [
      "Epoch 24/40 Training: 100%|██████████| 215/215 [00:00<00:00, 249.75it/s]\n",
      "Epoch 24/40 Validating: 100%|██████████| 25/25 [00:00<00:00, 548.23it/s]\n"
     ]
    },
    {
     "name": "stdout",
     "output_type": "stream",
     "text": [
      "Epoch 24/40: Train Loss: 0.0219, Val Loss: 0.0319\n"
     ]
    },
    {
     "name": "stderr",
     "output_type": "stream",
     "text": [
      "Epoch 25/40 Training: 100%|██████████| 215/215 [00:00<00:00, 241.48it/s]\n",
      "Epoch 25/40 Validating: 100%|██████████| 25/25 [00:00<00:00, 540.84it/s]\n"
     ]
    },
    {
     "name": "stdout",
     "output_type": "stream",
     "text": [
      "Epoch 25/40: Train Loss: 0.0218, Val Loss: 0.0316\n"
     ]
    },
    {
     "name": "stderr",
     "output_type": "stream",
     "text": [
      "Epoch 26/40 Training: 100%|██████████| 215/215 [00:00<00:00, 270.27it/s]\n",
      "Epoch 26/40 Validating: 100%|██████████| 25/25 [00:00<00:00, 544.55it/s]\n"
     ]
    },
    {
     "name": "stdout",
     "output_type": "stream",
     "text": [
      "Epoch 26/40: Train Loss: 0.0217, Val Loss: 0.0318\n"
     ]
    },
    {
     "name": "stderr",
     "output_type": "stream",
     "text": [
      "Epoch 27/40 Training: 100%|██████████| 215/215 [00:00<00:00, 262.65it/s]\n",
      "Epoch 27/40 Validating: 100%|██████████| 25/25 [00:00<00:00, 543.13it/s]\n"
     ]
    },
    {
     "name": "stdout",
     "output_type": "stream",
     "text": [
      "Epoch 27/40: Train Loss: 0.0217, Val Loss: 0.0324\n"
     ]
    },
    {
     "name": "stderr",
     "output_type": "stream",
     "text": [
      "Epoch 28/40 Training: 100%|██████████| 215/215 [00:00<00:00, 264.07it/s]\n",
      "Epoch 28/40 Validating: 100%|██████████| 25/25 [00:00<00:00, 604.15it/s]\n"
     ]
    },
    {
     "name": "stdout",
     "output_type": "stream",
     "text": [
      "Epoch 28/40: Train Loss: 0.0216, Val Loss: 0.0319\n"
     ]
    },
    {
     "name": "stderr",
     "output_type": "stream",
     "text": [
      "Epoch 29/40 Training: 100%|██████████| 215/215 [00:00<00:00, 251.92it/s]\n",
      "Epoch 29/40 Validating: 100%|██████████| 25/25 [00:00<00:00, 579.09it/s]\n"
     ]
    },
    {
     "name": "stdout",
     "output_type": "stream",
     "text": [
      "Epoch 29/40: Train Loss: 0.0215, Val Loss: 0.0328\n"
     ]
    },
    {
     "name": "stderr",
     "output_type": "stream",
     "text": [
      "Epoch 30/40 Training: 100%|██████████| 215/215 [00:00<00:00, 258.59it/s]\n",
      "Epoch 30/40 Validating: 100%|██████████| 25/25 [00:00<00:00, 604.49it/s]\n"
     ]
    },
    {
     "name": "stdout",
     "output_type": "stream",
     "text": [
      "Epoch 30/40: Train Loss: 0.0213, Val Loss: 0.0323\n"
     ]
    },
    {
     "name": "stderr",
     "output_type": "stream",
     "text": [
      "Epoch 31/40 Training: 100%|██████████| 215/215 [00:00<00:00, 244.04it/s]\n",
      "Epoch 31/40 Validating: 100%|██████████| 25/25 [00:00<00:00, 613.69it/s]\n"
     ]
    },
    {
     "name": "stdout",
     "output_type": "stream",
     "text": [
      "Epoch 31/40: Train Loss: 0.0212, Val Loss: 0.0322\n"
     ]
    },
    {
     "name": "stderr",
     "output_type": "stream",
     "text": [
      "Epoch 32/40 Training: 100%|██████████| 215/215 [00:00<00:00, 262.30it/s]\n",
      "Epoch 32/40 Validating: 100%|██████████| 25/25 [00:00<00:00, 501.12it/s]\n"
     ]
    },
    {
     "name": "stdout",
     "output_type": "stream",
     "text": [
      "Epoch 32/40: Train Loss: 0.0211, Val Loss: 0.0322\n"
     ]
    },
    {
     "name": "stderr",
     "output_type": "stream",
     "text": [
      "Epoch 33/40 Training: 100%|██████████| 215/215 [00:00<00:00, 247.30it/s]\n",
      "Epoch 33/40 Validating: 100%|██████████| 25/25 [00:00<00:00, 593.68it/s]\n"
     ]
    },
    {
     "name": "stdout",
     "output_type": "stream",
     "text": [
      "Epoch 33/40: Train Loss: 0.0210, Val Loss: 0.0324\n"
     ]
    },
    {
     "name": "stderr",
     "output_type": "stream",
     "text": [
      "Epoch 34/40 Training: 100%|██████████| 215/215 [00:00<00:00, 249.50it/s]\n",
      "Epoch 34/40 Validating: 100%|██████████| 25/25 [00:00<00:00, 336.92it/s]\n"
     ]
    },
    {
     "name": "stdout",
     "output_type": "stream",
     "text": [
      "Epoch 34/40: Train Loss: 0.0209, Val Loss: 0.0324\n"
     ]
    },
    {
     "name": "stderr",
     "output_type": "stream",
     "text": [
      "Epoch 35/40 Training: 100%|██████████| 215/215 [00:00<00:00, 257.41it/s]\n",
      "Epoch 35/40 Validating: 100%|██████████| 25/25 [00:00<00:00, 526.72it/s]\n"
     ]
    },
    {
     "name": "stdout",
     "output_type": "stream",
     "text": [
      "Epoch 35/40: Train Loss: 0.0208, Val Loss: 0.0320\n"
     ]
    },
    {
     "name": "stderr",
     "output_type": "stream",
     "text": [
      "Epoch 36/40 Training: 100%|██████████| 215/215 [00:00<00:00, 238.08it/s]\n",
      "Epoch 36/40 Validating: 100%|██████████| 25/25 [00:00<00:00, 586.67it/s]\n"
     ]
    },
    {
     "name": "stdout",
     "output_type": "stream",
     "text": [
      "Epoch 36/40: Train Loss: 0.0207, Val Loss: 0.0321\n"
     ]
    },
    {
     "name": "stderr",
     "output_type": "stream",
     "text": [
      "Epoch 37/40 Training: 100%|██████████| 215/215 [00:00<00:00, 255.90it/s]\n",
      "Epoch 37/40 Validating: 100%|██████████| 25/25 [00:00<00:00, 580.71it/s]\n"
     ]
    },
    {
     "name": "stdout",
     "output_type": "stream",
     "text": [
      "Epoch 37/40: Train Loss: 0.0206, Val Loss: 0.0318\n"
     ]
    },
    {
     "name": "stderr",
     "output_type": "stream",
     "text": [
      "Epoch 38/40 Training: 100%|██████████| 215/215 [00:00<00:00, 269.53it/s]\n",
      "Epoch 38/40 Validating: 100%|██████████| 25/25 [00:00<00:00, 555.12it/s]\n"
     ]
    },
    {
     "name": "stdout",
     "output_type": "stream",
     "text": [
      "Epoch 38/40: Train Loss: 0.0205, Val Loss: 0.0318\n"
     ]
    },
    {
     "name": "stderr",
     "output_type": "stream",
     "text": [
      "Epoch 39/40 Training: 100%|██████████| 215/215 [00:00<00:00, 259.17it/s]\n",
      "Epoch 39/40 Validating: 100%|██████████| 25/25 [00:00<00:00, 631.83it/s]\n"
     ]
    },
    {
     "name": "stdout",
     "output_type": "stream",
     "text": [
      "Epoch 39/40: Train Loss: 0.0204, Val Loss: 0.0317\n"
     ]
    },
    {
     "name": "stderr",
     "output_type": "stream",
     "text": [
      "Epoch 40/40 Training: 100%|██████████| 215/215 [00:00<00:00, 270.43it/s]\n",
      "Epoch 40/40 Validating: 100%|██████████| 25/25 [00:00<00:00, 590.64it/s]"
     ]
    },
    {
     "name": "stdout",
     "output_type": "stream",
     "text": [
      "Epoch 40/40: Train Loss: 0.0204, Val Loss: 0.0319\n",
      "Training complete. models saved to models/\n"
     ]
    },
    {
     "name": "stderr",
     "output_type": "stream",
     "text": [
      "\n"
     ]
    }
   ],
   "source": [
    "model = lstm_model\n",
    "optimizer = torch.optim.Adam(model.parameters(), lr=1e-3)\n",
    "loss_fn = nn.L1Loss()\n",
    "\n",
    "print(\"\\nStarting model training...\")\n",
    "train_model(\n",
    "    model=model,\n",
    "    optimizer=optimizer,\n",
    "    loss_fn=loss_fn,\n",
    "    train_loader=train_loader,\n",
    "    val_loader=val_loader,\n",
    "    epochs=40, \n",
    "    device=device,\n",
    "    name='lstm_7f7d_rec'\n",
    ")\n",
    "\n",
    "lstm_model=model"
   ]
  },
  {
   "cell_type": "code",
   "execution_count": 13,
   "id": "b61a54f5",
   "metadata": {},
   "outputs": [
    {
     "name": "stdout",
     "output_type": "stream",
     "text": [
      "\n",
      "Starting model training...\n"
     ]
    },
    {
     "name": "stderr",
     "output_type": "stream",
     "text": [
      "Epoch 1/40 Training: 100%|██████████| 215/215 [00:01<00:00, 183.69it/s]\n",
      "Epoch 1/40 Validating: 100%|██████████| 25/25 [00:00<00:00, 330.67it/s]\n"
     ]
    },
    {
     "name": "stdout",
     "output_type": "stream",
     "text": [
      "Epoch 1/40: Train Loss: 0.0526, Val Loss: 0.0686\n",
      "Validation loss improved. Saving best model state.\n"
     ]
    },
    {
     "name": "stderr",
     "output_type": "stream",
     "text": [
      "Epoch 2/40 Training: 100%|██████████| 215/215 [00:01<00:00, 201.36it/s]\n",
      "Epoch 2/40 Validating: 100%|██████████| 25/25 [00:00<00:00, 306.27it/s]\n"
     ]
    },
    {
     "name": "stdout",
     "output_type": "stream",
     "text": [
      "Epoch 2/40: Train Loss: 0.0467, Val Loss: 0.0591\n",
      "Validation loss improved. Saving best model state.\n"
     ]
    },
    {
     "name": "stderr",
     "output_type": "stream",
     "text": [
      "Epoch 3/40 Training: 100%|██████████| 215/215 [00:01<00:00, 204.70it/s]\n",
      "Epoch 3/40 Validating: 100%|██████████| 25/25 [00:00<00:00, 485.45it/s]\n"
     ]
    },
    {
     "name": "stdout",
     "output_type": "stream",
     "text": [
      "Epoch 3/40: Train Loss: 0.0404, Val Loss: 0.0523\n",
      "Validation loss improved. Saving best model state.\n"
     ]
    },
    {
     "name": "stderr",
     "output_type": "stream",
     "text": [
      "Epoch 4/40 Training: 100%|██████████| 215/215 [00:01<00:00, 202.52it/s]\n",
      "Epoch 4/40 Validating: 100%|██████████| 25/25 [00:00<00:00, 491.65it/s]\n"
     ]
    },
    {
     "name": "stdout",
     "output_type": "stream",
     "text": [
      "Epoch 4/40: Train Loss: 0.0359, Val Loss: 0.0472\n",
      "Validation loss improved. Saving best model state.\n"
     ]
    },
    {
     "name": "stderr",
     "output_type": "stream",
     "text": [
      "Epoch 5/40 Training: 100%|██████████| 215/215 [00:01<00:00, 205.93it/s]\n",
      "Epoch 5/40 Validating: 100%|██████████| 25/25 [00:00<00:00, 512.19it/s]\n"
     ]
    },
    {
     "name": "stdout",
     "output_type": "stream",
     "text": [
      "Epoch 5/40: Train Loss: 0.0325, Val Loss: 0.0429\n",
      "Validation loss improved. Saving best model state.\n"
     ]
    },
    {
     "name": "stderr",
     "output_type": "stream",
     "text": [
      "Epoch 6/40 Training: 100%|██████████| 215/215 [00:01<00:00, 199.59it/s]\n",
      "Epoch 6/40 Validating: 100%|██████████| 25/25 [00:00<00:00, 539.24it/s]\n"
     ]
    },
    {
     "name": "stdout",
     "output_type": "stream",
     "text": [
      "Epoch 6/40: Train Loss: 0.0299, Val Loss: 0.0397\n",
      "Validation loss improved. Saving best model state.\n"
     ]
    },
    {
     "name": "stderr",
     "output_type": "stream",
     "text": [
      "Epoch 7/40 Training: 100%|██████████| 215/215 [00:01<00:00, 214.11it/s]\n",
      "Epoch 7/40 Validating: 100%|██████████| 25/25 [00:00<00:00, 550.90it/s]\n"
     ]
    },
    {
     "name": "stdout",
     "output_type": "stream",
     "text": [
      "Epoch 7/40: Train Loss: 0.0277, Val Loss: 0.0371\n",
      "Validation loss improved. Saving best model state.\n"
     ]
    },
    {
     "name": "stderr",
     "output_type": "stream",
     "text": [
      "Epoch 8/40 Training: 100%|██████████| 215/215 [00:01<00:00, 204.26it/s]\n",
      "Epoch 8/40 Validating: 100%|██████████| 25/25 [00:00<00:00, 570.01it/s]\n"
     ]
    },
    {
     "name": "stdout",
     "output_type": "stream",
     "text": [
      "Epoch 8/40: Train Loss: 0.0263, Val Loss: 0.0362\n",
      "Validation loss improved. Saving best model state.\n"
     ]
    },
    {
     "name": "stderr",
     "output_type": "stream",
     "text": [
      "Epoch 9/40 Training: 100%|██████████| 215/215 [00:01<00:00, 207.48it/s]\n",
      "Epoch 9/40 Validating: 100%|██████████| 25/25 [00:00<00:00, 518.59it/s]\n"
     ]
    },
    {
     "name": "stdout",
     "output_type": "stream",
     "text": [
      "Epoch 9/40: Train Loss: 0.0253, Val Loss: 0.0351\n",
      "Validation loss improved. Saving best model state.\n"
     ]
    },
    {
     "name": "stderr",
     "output_type": "stream",
     "text": [
      "Epoch 10/40 Training: 100%|██████████| 215/215 [00:01<00:00, 208.94it/s]\n",
      "Epoch 10/40 Validating: 100%|██████████| 25/25 [00:00<00:00, 521.23it/s]\n"
     ]
    },
    {
     "name": "stdout",
     "output_type": "stream",
     "text": [
      "Epoch 10/40: Train Loss: 0.0245, Val Loss: 0.0340\n",
      "Validation loss improved. Saving best model state.\n"
     ]
    },
    {
     "name": "stderr",
     "output_type": "stream",
     "text": [
      "Epoch 11/40 Training: 100%|██████████| 215/215 [00:01<00:00, 195.69it/s]\n",
      "Epoch 11/40 Validating: 100%|██████████| 25/25 [00:00<00:00, 546.30it/s]\n"
     ]
    },
    {
     "name": "stdout",
     "output_type": "stream",
     "text": [
      "Epoch 11/40: Train Loss: 0.0239, Val Loss: 0.0341\n"
     ]
    },
    {
     "name": "stderr",
     "output_type": "stream",
     "text": [
      "Epoch 12/40 Training: 100%|██████████| 215/215 [00:01<00:00, 207.01it/s]\n",
      "Epoch 12/40 Validating: 100%|██████████| 25/25 [00:00<00:00, 584.29it/s]\n"
     ]
    },
    {
     "name": "stdout",
     "output_type": "stream",
     "text": [
      "Epoch 12/40: Train Loss: 0.0232, Val Loss: 0.0340\n",
      "Validation loss improved. Saving best model state.\n"
     ]
    },
    {
     "name": "stderr",
     "output_type": "stream",
     "text": [
      "Epoch 13/40 Training: 100%|██████████| 215/215 [00:01<00:00, 203.84it/s]\n",
      "Epoch 13/40 Validating: 100%|██████████| 25/25 [00:00<00:00, 503.95it/s]\n"
     ]
    },
    {
     "name": "stdout",
     "output_type": "stream",
     "text": [
      "Epoch 13/40: Train Loss: 0.0229, Val Loss: 0.0339\n",
      "Validation loss improved. Saving best model state.\n"
     ]
    },
    {
     "name": "stderr",
     "output_type": "stream",
     "text": [
      "Epoch 14/40 Training: 100%|██████████| 215/215 [00:01<00:00, 201.25it/s]\n",
      "Epoch 14/40 Validating: 100%|██████████| 25/25 [00:00<00:00, 534.46it/s]\n"
     ]
    },
    {
     "name": "stdout",
     "output_type": "stream",
     "text": [
      "Epoch 14/40: Train Loss: 0.0225, Val Loss: 0.0332\n",
      "Validation loss improved. Saving best model state.\n"
     ]
    },
    {
     "name": "stderr",
     "output_type": "stream",
     "text": [
      "Epoch 15/40 Training: 100%|██████████| 215/215 [00:01<00:00, 199.49it/s]\n",
      "Epoch 15/40 Validating: 100%|██████████| 25/25 [00:00<00:00, 543.65it/s]\n"
     ]
    },
    {
     "name": "stdout",
     "output_type": "stream",
     "text": [
      "Epoch 15/40: Train Loss: 0.0223, Val Loss: 0.0331\n",
      "Validation loss improved. Saving best model state.\n"
     ]
    },
    {
     "name": "stderr",
     "output_type": "stream",
     "text": [
      "Epoch 16/40 Training: 100%|██████████| 215/215 [00:01<00:00, 204.33it/s]\n",
      "Epoch 16/40 Validating: 100%|██████████| 25/25 [00:00<00:00, 532.91it/s]\n"
     ]
    },
    {
     "name": "stdout",
     "output_type": "stream",
     "text": [
      "Epoch 16/40: Train Loss: 0.0221, Val Loss: 0.0334\n"
     ]
    },
    {
     "name": "stderr",
     "output_type": "stream",
     "text": [
      "Epoch 17/40 Training: 100%|██████████| 215/215 [00:01<00:00, 204.60it/s]\n",
      "Epoch 17/40 Validating: 100%|██████████| 25/25 [00:00<00:00, 549.42it/s]\n"
     ]
    },
    {
     "name": "stdout",
     "output_type": "stream",
     "text": [
      "Epoch 17/40: Train Loss: 0.0220, Val Loss: 0.0331\n"
     ]
    },
    {
     "name": "stderr",
     "output_type": "stream",
     "text": [
      "Epoch 18/40 Training: 100%|██████████| 215/215 [00:01<00:00, 205.48it/s]\n",
      "Epoch 18/40 Validating: 100%|██████████| 25/25 [00:00<00:00, 485.45it/s]\n"
     ]
    },
    {
     "name": "stdout",
     "output_type": "stream",
     "text": [
      "Epoch 18/40: Train Loss: 0.0218, Val Loss: 0.0331\n"
     ]
    },
    {
     "name": "stderr",
     "output_type": "stream",
     "text": [
      "Epoch 19/40 Training: 100%|██████████| 215/215 [00:01<00:00, 208.00it/s]\n",
      "Epoch 19/40 Validating: 100%|██████████| 25/25 [00:00<00:00, 487.01it/s]\n"
     ]
    },
    {
     "name": "stdout",
     "output_type": "stream",
     "text": [
      "Epoch 19/40: Train Loss: 0.0219, Val Loss: 0.0328\n",
      "Validation loss improved. Saving best model state.\n"
     ]
    },
    {
     "name": "stderr",
     "output_type": "stream",
     "text": [
      "Epoch 20/40 Training: 100%|██████████| 215/215 [00:01<00:00, 193.63it/s]\n",
      "Epoch 20/40 Validating: 100%|██████████| 25/25 [00:00<00:00, 452.01it/s]\n"
     ]
    },
    {
     "name": "stdout",
     "output_type": "stream",
     "text": [
      "Epoch 20/40: Train Loss: 0.0217, Val Loss: 0.0332\n"
     ]
    },
    {
     "name": "stderr",
     "output_type": "stream",
     "text": [
      "Epoch 21/40 Training: 100%|██████████| 215/215 [00:01<00:00, 202.05it/s]\n",
      "Epoch 21/40 Validating: 100%|██████████| 25/25 [00:00<00:00, 506.59it/s]\n"
     ]
    },
    {
     "name": "stdout",
     "output_type": "stream",
     "text": [
      "Epoch 21/40: Train Loss: 0.0215, Val Loss: 0.0330\n"
     ]
    },
    {
     "name": "stderr",
     "output_type": "stream",
     "text": [
      "Epoch 22/40 Training: 100%|██████████| 215/215 [00:01<00:00, 198.58it/s]\n",
      "Epoch 22/40 Validating: 100%|██████████| 25/25 [00:00<00:00, 524.32it/s]\n"
     ]
    },
    {
     "name": "stdout",
     "output_type": "stream",
     "text": [
      "Epoch 22/40: Train Loss: 0.0214, Val Loss: 0.0332\n"
     ]
    },
    {
     "name": "stderr",
     "output_type": "stream",
     "text": [
      "Epoch 23/40 Training: 100%|██████████| 215/215 [00:01<00:00, 206.62it/s]\n",
      "Epoch 23/40 Validating: 100%|██████████| 25/25 [00:00<00:00, 471.06it/s]\n"
     ]
    },
    {
     "name": "stdout",
     "output_type": "stream",
     "text": [
      "Epoch 23/40: Train Loss: 0.0213, Val Loss: 0.0326\n",
      "Validation loss improved. Saving best model state.\n"
     ]
    },
    {
     "name": "stderr",
     "output_type": "stream",
     "text": [
      "Epoch 24/40 Training: 100%|██████████| 215/215 [00:01<00:00, 193.33it/s]\n",
      "Epoch 24/40 Validating: 100%|██████████| 25/25 [00:00<00:00, 541.82it/s]\n"
     ]
    },
    {
     "name": "stdout",
     "output_type": "stream",
     "text": [
      "Epoch 24/40: Train Loss: 0.0212, Val Loss: 0.0327\n"
     ]
    },
    {
     "name": "stderr",
     "output_type": "stream",
     "text": [
      "Epoch 25/40 Training: 100%|██████████| 215/215 [00:01<00:00, 204.86it/s]\n",
      "Epoch 25/40 Validating: 100%|██████████| 25/25 [00:00<00:00, 477.38it/s]\n"
     ]
    },
    {
     "name": "stdout",
     "output_type": "stream",
     "text": [
      "Epoch 25/40: Train Loss: 0.0211, Val Loss: 0.0330\n"
     ]
    },
    {
     "name": "stderr",
     "output_type": "stream",
     "text": [
      "Epoch 26/40 Training: 100%|██████████| 215/215 [00:01<00:00, 203.27it/s]\n",
      "Epoch 26/40 Validating: 100%|██████████| 25/25 [00:00<00:00, 536.28it/s]\n"
     ]
    },
    {
     "name": "stdout",
     "output_type": "stream",
     "text": [
      "Epoch 26/40: Train Loss: 0.0210, Val Loss: 0.0327\n"
     ]
    },
    {
     "name": "stderr",
     "output_type": "stream",
     "text": [
      "Epoch 27/40 Training: 100%|██████████| 215/215 [00:01<00:00, 200.15it/s]\n",
      "Epoch 27/40 Validating: 100%|██████████| 25/25 [00:00<00:00, 436.11it/s]\n"
     ]
    },
    {
     "name": "stdout",
     "output_type": "stream",
     "text": [
      "Epoch 27/40: Train Loss: 0.0210, Val Loss: 0.0329\n"
     ]
    },
    {
     "name": "stderr",
     "output_type": "stream",
     "text": [
      "Epoch 28/40 Training: 100%|██████████| 215/215 [00:01<00:00, 206.57it/s]\n",
      "Epoch 28/40 Validating: 100%|██████████| 25/25 [00:00<00:00, 465.95it/s]\n"
     ]
    },
    {
     "name": "stdout",
     "output_type": "stream",
     "text": [
      "Epoch 28/40: Train Loss: 0.0208, Val Loss: 0.0325\n",
      "Validation loss improved. Saving best model state.\n"
     ]
    },
    {
     "name": "stderr",
     "output_type": "stream",
     "text": [
      "Epoch 29/40 Training: 100%|██████████| 215/215 [00:01<00:00, 199.38it/s]\n",
      "Epoch 29/40 Validating: 100%|██████████| 25/25 [00:00<00:00, 478.48it/s]\n"
     ]
    },
    {
     "name": "stdout",
     "output_type": "stream",
     "text": [
      "Epoch 29/40: Train Loss: 0.0208, Val Loss: 0.0324\n",
      "Validation loss improved. Saving best model state.\n"
     ]
    },
    {
     "name": "stderr",
     "output_type": "stream",
     "text": [
      "Epoch 30/40 Training: 100%|██████████| 215/215 [00:01<00:00, 204.26it/s]\n",
      "Epoch 30/40 Validating: 100%|██████████| 25/25 [00:00<00:00, 517.35it/s]\n"
     ]
    },
    {
     "name": "stdout",
     "output_type": "stream",
     "text": [
      "Epoch 30/40: Train Loss: 0.0208, Val Loss: 0.0327\n"
     ]
    },
    {
     "name": "stderr",
     "output_type": "stream",
     "text": [
      "Epoch 31/40 Training: 100%|██████████| 215/215 [00:01<00:00, 203.37it/s]\n",
      "Epoch 31/40 Validating: 100%|██████████| 25/25 [00:00<00:00, 492.13it/s]\n"
     ]
    },
    {
     "name": "stdout",
     "output_type": "stream",
     "text": [
      "Epoch 31/40: Train Loss: 0.0208, Val Loss: 0.0327\n"
     ]
    },
    {
     "name": "stderr",
     "output_type": "stream",
     "text": [
      "Epoch 32/40 Training: 100%|██████████| 215/215 [00:01<00:00, 203.84it/s]\n",
      "Epoch 32/40 Validating: 100%|██████████| 25/25 [00:00<00:00, 515.78it/s]\n"
     ]
    },
    {
     "name": "stdout",
     "output_type": "stream",
     "text": [
      "Epoch 32/40: Train Loss: 0.0207, Val Loss: 0.0329\n"
     ]
    },
    {
     "name": "stderr",
     "output_type": "stream",
     "text": [
      "Epoch 33/40 Training: 100%|██████████| 215/215 [00:01<00:00, 195.96it/s]\n",
      "Epoch 33/40 Validating: 100%|██████████| 25/25 [00:00<00:00, 548.36it/s]\n"
     ]
    },
    {
     "name": "stdout",
     "output_type": "stream",
     "text": [
      "Epoch 33/40: Train Loss: 0.0207, Val Loss: 0.0329\n"
     ]
    },
    {
     "name": "stderr",
     "output_type": "stream",
     "text": [
      "Epoch 34/40 Training: 100%|██████████| 215/215 [00:01<00:00, 199.01it/s]\n",
      "Epoch 34/40 Validating: 100%|██████████| 25/25 [00:00<00:00, 478.11it/s]\n"
     ]
    },
    {
     "name": "stdout",
     "output_type": "stream",
     "text": [
      "Epoch 34/40: Train Loss: 0.0205, Val Loss: 0.0326\n"
     ]
    },
    {
     "name": "stderr",
     "output_type": "stream",
     "text": [
      "Epoch 35/40 Training: 100%|██████████| 215/215 [00:01<00:00, 210.35it/s]\n",
      "Epoch 35/40 Validating: 100%|██████████| 25/25 [00:00<00:00, 359.69it/s]\n"
     ]
    },
    {
     "name": "stdout",
     "output_type": "stream",
     "text": [
      "Epoch 35/40: Train Loss: 0.0206, Val Loss: 0.0326\n"
     ]
    },
    {
     "name": "stderr",
     "output_type": "stream",
     "text": [
      "Epoch 36/40 Training: 100%|██████████| 215/215 [00:01<00:00, 206.07it/s]\n",
      "Epoch 36/40 Validating: 100%|██████████| 25/25 [00:00<00:00, 515.82it/s]\n"
     ]
    },
    {
     "name": "stdout",
     "output_type": "stream",
     "text": [
      "Epoch 36/40: Train Loss: 0.0206, Val Loss: 0.0330\n"
     ]
    },
    {
     "name": "stderr",
     "output_type": "stream",
     "text": [
      "Epoch 37/40 Training: 100%|██████████| 215/215 [00:01<00:00, 197.57it/s]\n",
      "Epoch 37/40 Validating: 100%|██████████| 25/25 [00:00<00:00, 322.13it/s]\n"
     ]
    },
    {
     "name": "stdout",
     "output_type": "stream",
     "text": [
      "Epoch 37/40: Train Loss: 0.0205, Val Loss: 0.0329\n"
     ]
    },
    {
     "name": "stderr",
     "output_type": "stream",
     "text": [
      "Epoch 38/40 Training: 100%|██████████| 215/215 [00:01<00:00, 202.04it/s]\n",
      "Epoch 38/40 Validating: 100%|██████████| 25/25 [00:00<00:00, 523.34it/s]\n"
     ]
    },
    {
     "name": "stdout",
     "output_type": "stream",
     "text": [
      "Epoch 38/40: Train Loss: 0.0205, Val Loss: 0.0329\n"
     ]
    },
    {
     "name": "stderr",
     "output_type": "stream",
     "text": [
      "Epoch 39/40 Training: 100%|██████████| 215/215 [00:01<00:00, 203.87it/s]\n",
      "Epoch 39/40 Validating: 100%|██████████| 25/25 [00:00<00:00, 315.55it/s]\n"
     ]
    },
    {
     "name": "stdout",
     "output_type": "stream",
     "text": [
      "Epoch 39/40: Train Loss: 0.0204, Val Loss: 0.0327\n"
     ]
    },
    {
     "name": "stderr",
     "output_type": "stream",
     "text": [
      "Epoch 40/40 Training: 100%|██████████| 215/215 [00:01<00:00, 202.20it/s]\n",
      "Epoch 40/40 Validating: 100%|██████████| 25/25 [00:00<00:00, 531.89it/s]\n"
     ]
    },
    {
     "name": "stdout",
     "output_type": "stream",
     "text": [
      "Epoch 40/40: Train Loss: 0.0204, Val Loss: 0.0332\n",
      "Training complete. models saved to models/\n"
     ]
    }
   ],
   "source": [
    "model = cnn_lstm_model\n",
    "optimizer = torch.optim.Adam(model.parameters(), lr=1e-3)\n",
    "loss_fn = nn.L1Loss()\n",
    "\n",
    "print(\"\\nStarting model training...\")\n",
    "train_model(\n",
    "    model=model,\n",
    "    optimizer=optimizer,\n",
    "    loss_fn=loss_fn,\n",
    "    train_loader=train_loader,\n",
    "    val_loader=val_loader,\n",
    "    epochs=40,\n",
    "    device=device,\n",
    "    name='cnn_lstm_7f7d_rec'\n",
    ")\n",
    "\n",
    "cnn_lstm_model=model"
   ]
  }
 ],
 "metadata": {
  "kernelspec": {
   "display_name": "torch",
   "language": "python",
   "name": "python3"
  },
  "language_info": {
   "codemirror_mode": {
    "name": "ipython",
    "version": 3
   },
   "file_extension": ".py",
   "mimetype": "text/x-python",
   "name": "python",
   "nbconvert_exporter": "python",
   "pygments_lexer": "ipython3",
   "version": "3.10.16"
  }
 },
 "nbformat": 4,
 "nbformat_minor": 5
}
